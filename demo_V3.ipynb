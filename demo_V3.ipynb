{
 "cells": [
  {
   "cell_type": "markdown",
   "metadata": {},
   "source": [
    "# FAIKR Module 3 Project\n",
    "\n",
    "*Group members*:\n",
    "- Ciapponi Stefano (mat. 0001030211)\n",
    "- Cortecchia Tommaso"
   ]
  },
  {
   "cell_type": "markdown",
   "metadata": {},
   "source": [
    "## Aims of the Project:\n",
    "\n",
    "1. Build a **Bayesian Network Model** starting from a Dataset downloaded from Kaggle\n",
    "2. Test the Network through queries inspired by the module's content.\n"
   ]
  },
  {
   "cell_type": "markdown",
   "metadata": {},
   "source": [
    "**Library imports:**"
   ]
  },
  {
   "cell_type": "code",
   "execution_count": 61,
   "metadata": {},
   "outputs": [],
   "source": [
    "import pandas as pd\n",
    "from matplotlib import pyplot as plt\n",
    "import seaborn as sns\n",
    "from scipy.stats import chi2_contingency\n",
    "import numpy as np\n",
    "from IPython.display import display"
   ]
  },
  {
   "cell_type": "markdown",
   "metadata": {},
   "source": [
    "## The Dataset\n",
    "<a href=\"https://www.kaggle.com/datasets/stackoverflow/stack-overflow-2018-developer-survey\"> Dataset Link </a>\n",
    "\n",
    "The chosen dataset contains results from a survey Taken by the <a href=\"https://stackoverflow.com/\"> Stack Overflow Community</a> in the year 2018.\n",
    "\n",
    "The Survey originally covered numerous different topics concearning the ICT world, but we were mostly interested in **Data regarding the user profiles**.\n",
    " \n",
    "So we decided to apply some pre-processing to reduce the number of variables, but also to simplify the dataset so that the Bayesian Model built from it would become more manageable and readable.\n"
   ]
  },
  {
   "cell_type": "code",
   "execution_count": 62,
   "metadata": {},
   "outputs": [
    {
     "name": "stderr",
     "output_type": "stream",
     "text": [
      "C:\\Users\\fresc\\AppData\\Local\\Temp\\ipykernel_23164\\3878626423.py:1: DtypeWarning: Columns (8,12,13,14,15,16,50,51,52,53,55,56,57,58,59,60,61,62,63,64,65,66,67,68,69,70,71,72,73,74,75,76,77,78,79,80,81,82,83,84,85,93,94,95,96,97,98,99,100,101,102,103,104,105,106,107,108,109,110,111,112,113,114,115,116,117,118,119,120,121,122,123,124,125,126,127,128) have mixed types. Specify dtype option on import or set low_memory=False.\n",
      "  df = pd.read_csv('dataset/survey_results_public.csv', sep=',')\n"
     ]
    },
    {
     "data": {
      "text/html": [
       "<div>\n",
       "<style scoped>\n",
       "    .dataframe tbody tr th:only-of-type {\n",
       "        vertical-align: middle;\n",
       "    }\n",
       "\n",
       "    .dataframe tbody tr th {\n",
       "        vertical-align: top;\n",
       "    }\n",
       "\n",
       "    .dataframe thead th {\n",
       "        text-align: right;\n",
       "    }\n",
       "</style>\n",
       "<table border=\"1\" class=\"dataframe\">\n",
       "  <thead>\n",
       "    <tr style=\"text-align: right;\">\n",
       "      <th></th>\n",
       "      <th>Respondent</th>\n",
       "      <th>AssessJob1</th>\n",
       "      <th>AssessJob2</th>\n",
       "      <th>AssessJob3</th>\n",
       "      <th>AssessJob4</th>\n",
       "      <th>AssessJob5</th>\n",
       "      <th>AssessJob6</th>\n",
       "      <th>AssessJob7</th>\n",
       "      <th>AssessJob8</th>\n",
       "      <th>AssessJob9</th>\n",
       "      <th>...</th>\n",
       "      <th>JobEmailPriorities6</th>\n",
       "      <th>JobEmailPriorities7</th>\n",
       "      <th>ConvertedSalary</th>\n",
       "      <th>AdsPriorities1</th>\n",
       "      <th>AdsPriorities2</th>\n",
       "      <th>AdsPriorities3</th>\n",
       "      <th>AdsPriorities4</th>\n",
       "      <th>AdsPriorities5</th>\n",
       "      <th>AdsPriorities6</th>\n",
       "      <th>AdsPriorities7</th>\n",
       "    </tr>\n",
       "  </thead>\n",
       "  <tbody>\n",
       "    <tr>\n",
       "      <th>count</th>\n",
       "      <td>98855.000000</td>\n",
       "      <td>66985.000000</td>\n",
       "      <td>66985.000000</td>\n",
       "      <td>66985.000000</td>\n",
       "      <td>66985.000000</td>\n",
       "      <td>66985.000000</td>\n",
       "      <td>66985.000000</td>\n",
       "      <td>66985.000000</td>\n",
       "      <td>66985.000000</td>\n",
       "      <td>66985.000000</td>\n",
       "      <td>...</td>\n",
       "      <td>46213.00000</td>\n",
       "      <td>46213.000000</td>\n",
       "      <td>4.770200e+04</td>\n",
       "      <td>60479.000000</td>\n",
       "      <td>60479.000000</td>\n",
       "      <td>60479.000000</td>\n",
       "      <td>60479.000000</td>\n",
       "      <td>60479.000000</td>\n",
       "      <td>60479.000000</td>\n",
       "      <td>60479.000000</td>\n",
       "    </tr>\n",
       "    <tr>\n",
       "      <th>mean</th>\n",
       "      <td>50822.971635</td>\n",
       "      <td>6.397089</td>\n",
       "      <td>6.673524</td>\n",
       "      <td>5.906875</td>\n",
       "      <td>4.065791</td>\n",
       "      <td>3.953243</td>\n",
       "      <td>4.407196</td>\n",
       "      <td>5.673181</td>\n",
       "      <td>4.225200</td>\n",
       "      <td>7.640009</td>\n",
       "      <td>...</td>\n",
       "      <td>4.97425</td>\n",
       "      <td>4.836388</td>\n",
       "      <td>9.578086e+04</td>\n",
       "      <td>2.726880</td>\n",
       "      <td>3.805784</td>\n",
       "      <td>3.340945</td>\n",
       "      <td>3.782470</td>\n",
       "      <td>4.383604</td>\n",
       "      <td>5.138809</td>\n",
       "      <td>4.821459</td>\n",
       "    </tr>\n",
       "    <tr>\n",
       "      <th>std</th>\n",
       "      <td>29321.650410</td>\n",
       "      <td>2.788428</td>\n",
       "      <td>2.531202</td>\n",
       "      <td>2.642734</td>\n",
       "      <td>2.541196</td>\n",
       "      <td>2.520499</td>\n",
       "      <td>2.502069</td>\n",
       "      <td>2.923998</td>\n",
       "      <td>2.507411</td>\n",
       "      <td>2.407457</td>\n",
       "      <td>...</td>\n",
       "      <td>1.86063</td>\n",
       "      <td>1.659844</td>\n",
       "      <td>2.023482e+05</td>\n",
       "      <td>1.881078</td>\n",
       "      <td>1.821323</td>\n",
       "      <td>1.673485</td>\n",
       "      <td>1.844864</td>\n",
       "      <td>1.931746</td>\n",
       "      <td>1.853249</td>\n",
       "      <td>1.874895</td>\n",
       "    </tr>\n",
       "    <tr>\n",
       "      <th>min</th>\n",
       "      <td>1.000000</td>\n",
       "      <td>1.000000</td>\n",
       "      <td>1.000000</td>\n",
       "      <td>1.000000</td>\n",
       "      <td>1.000000</td>\n",
       "      <td>1.000000</td>\n",
       "      <td>1.000000</td>\n",
       "      <td>1.000000</td>\n",
       "      <td>1.000000</td>\n",
       "      <td>1.000000</td>\n",
       "      <td>...</td>\n",
       "      <td>1.00000</td>\n",
       "      <td>1.000000</td>\n",
       "      <td>0.000000e+00</td>\n",
       "      <td>1.000000</td>\n",
       "      <td>1.000000</td>\n",
       "      <td>1.000000</td>\n",
       "      <td>1.000000</td>\n",
       "      <td>1.000000</td>\n",
       "      <td>1.000000</td>\n",
       "      <td>1.000000</td>\n",
       "    </tr>\n",
       "    <tr>\n",
       "      <th>25%</th>\n",
       "      <td>25443.500000</td>\n",
       "      <td>4.000000</td>\n",
       "      <td>5.000000</td>\n",
       "      <td>4.000000</td>\n",
       "      <td>2.000000</td>\n",
       "      <td>2.000000</td>\n",
       "      <td>2.000000</td>\n",
       "      <td>3.000000</td>\n",
       "      <td>2.000000</td>\n",
       "      <td>6.000000</td>\n",
       "      <td>...</td>\n",
       "      <td>4.00000</td>\n",
       "      <td>4.000000</td>\n",
       "      <td>2.384400e+04</td>\n",
       "      <td>1.000000</td>\n",
       "      <td>2.000000</td>\n",
       "      <td>2.000000</td>\n",
       "      <td>2.000000</td>\n",
       "      <td>3.000000</td>\n",
       "      <td>4.000000</td>\n",
       "      <td>3.000000</td>\n",
       "    </tr>\n",
       "    <tr>\n",
       "      <th>50%</th>\n",
       "      <td>50823.000000</td>\n",
       "      <td>7.000000</td>\n",
       "      <td>7.000000</td>\n",
       "      <td>6.000000</td>\n",
       "      <td>4.000000</td>\n",
       "      <td>3.000000</td>\n",
       "      <td>4.000000</td>\n",
       "      <td>6.000000</td>\n",
       "      <td>4.000000</td>\n",
       "      <td>8.000000</td>\n",
       "      <td>...</td>\n",
       "      <td>5.00000</td>\n",
       "      <td>5.000000</td>\n",
       "      <td>5.507500e+04</td>\n",
       "      <td>2.000000</td>\n",
       "      <td>4.000000</td>\n",
       "      <td>3.000000</td>\n",
       "      <td>4.000000</td>\n",
       "      <td>5.000000</td>\n",
       "      <td>6.000000</td>\n",
       "      <td>5.000000</td>\n",
       "    </tr>\n",
       "    <tr>\n",
       "      <th>75%</th>\n",
       "      <td>76219.500000</td>\n",
       "      <td>9.000000</td>\n",
       "      <td>9.000000</td>\n",
       "      <td>8.000000</td>\n",
       "      <td>6.000000</td>\n",
       "      <td>6.000000</td>\n",
       "      <td>6.000000</td>\n",
       "      <td>8.000000</td>\n",
       "      <td>6.000000</td>\n",
       "      <td>10.000000</td>\n",
       "      <td>...</td>\n",
       "      <td>7.00000</td>\n",
       "      <td>6.000000</td>\n",
       "      <td>9.300000e+04</td>\n",
       "      <td>4.000000</td>\n",
       "      <td>5.000000</td>\n",
       "      <td>5.000000</td>\n",
       "      <td>5.000000</td>\n",
       "      <td>6.000000</td>\n",
       "      <td>7.000000</td>\n",
       "      <td>7.000000</td>\n",
       "    </tr>\n",
       "    <tr>\n",
       "      <th>max</th>\n",
       "      <td>101592.000000</td>\n",
       "      <td>10.000000</td>\n",
       "      <td>10.000000</td>\n",
       "      <td>10.000000</td>\n",
       "      <td>10.000000</td>\n",
       "      <td>10.000000</td>\n",
       "      <td>10.000000</td>\n",
       "      <td>10.000000</td>\n",
       "      <td>10.000000</td>\n",
       "      <td>10.000000</td>\n",
       "      <td>...</td>\n",
       "      <td>7.00000</td>\n",
       "      <td>7.000000</td>\n",
       "      <td>2.000000e+06</td>\n",
       "      <td>7.000000</td>\n",
       "      <td>7.000000</td>\n",
       "      <td>7.000000</td>\n",
       "      <td>7.000000</td>\n",
       "      <td>7.000000</td>\n",
       "      <td>7.000000</td>\n",
       "      <td>7.000000</td>\n",
       "    </tr>\n",
       "  </tbody>\n",
       "</table>\n",
       "<p>8 rows × 42 columns</p>\n",
       "</div>"
      ],
      "text/plain": [
       "          Respondent    AssessJob1    AssessJob2    AssessJob3    AssessJob4  \\\n",
       "count   98855.000000  66985.000000  66985.000000  66985.000000  66985.000000   \n",
       "mean    50822.971635      6.397089      6.673524      5.906875      4.065791   \n",
       "std     29321.650410      2.788428      2.531202      2.642734      2.541196   \n",
       "min         1.000000      1.000000      1.000000      1.000000      1.000000   \n",
       "25%     25443.500000      4.000000      5.000000      4.000000      2.000000   \n",
       "50%     50823.000000      7.000000      7.000000      6.000000      4.000000   \n",
       "75%     76219.500000      9.000000      9.000000      8.000000      6.000000   \n",
       "max    101592.000000     10.000000     10.000000     10.000000     10.000000   \n",
       "\n",
       "         AssessJob5    AssessJob6    AssessJob7    AssessJob8    AssessJob9  \\\n",
       "count  66985.000000  66985.000000  66985.000000  66985.000000  66985.000000   \n",
       "mean       3.953243      4.407196      5.673181      4.225200      7.640009   \n",
       "std        2.520499      2.502069      2.923998      2.507411      2.407457   \n",
       "min        1.000000      1.000000      1.000000      1.000000      1.000000   \n",
       "25%        2.000000      2.000000      3.000000      2.000000      6.000000   \n",
       "50%        3.000000      4.000000      6.000000      4.000000      8.000000   \n",
       "75%        6.000000      6.000000      8.000000      6.000000     10.000000   \n",
       "max       10.000000     10.000000     10.000000     10.000000     10.000000   \n",
       "\n",
       "       ...  JobEmailPriorities6  JobEmailPriorities7  ConvertedSalary  \\\n",
       "count  ...          46213.00000         46213.000000     4.770200e+04   \n",
       "mean   ...              4.97425             4.836388     9.578086e+04   \n",
       "std    ...              1.86063             1.659844     2.023482e+05   \n",
       "min    ...              1.00000             1.000000     0.000000e+00   \n",
       "25%    ...              4.00000             4.000000     2.384400e+04   \n",
       "50%    ...              5.00000             5.000000     5.507500e+04   \n",
       "75%    ...              7.00000             6.000000     9.300000e+04   \n",
       "max    ...              7.00000             7.000000     2.000000e+06   \n",
       "\n",
       "       AdsPriorities1  AdsPriorities2  AdsPriorities3  AdsPriorities4  \\\n",
       "count    60479.000000    60479.000000    60479.000000    60479.000000   \n",
       "mean         2.726880        3.805784        3.340945        3.782470   \n",
       "std          1.881078        1.821323        1.673485        1.844864   \n",
       "min          1.000000        1.000000        1.000000        1.000000   \n",
       "25%          1.000000        2.000000        2.000000        2.000000   \n",
       "50%          2.000000        4.000000        3.000000        4.000000   \n",
       "75%          4.000000        5.000000        5.000000        5.000000   \n",
       "max          7.000000        7.000000        7.000000        7.000000   \n",
       "\n",
       "       AdsPriorities5  AdsPriorities6  AdsPriorities7  \n",
       "count    60479.000000    60479.000000    60479.000000  \n",
       "mean         4.383604        5.138809        4.821459  \n",
       "std          1.931746        1.853249        1.874895  \n",
       "min          1.000000        1.000000        1.000000  \n",
       "25%          3.000000        4.000000        3.000000  \n",
       "50%          5.000000        6.000000        5.000000  \n",
       "75%          6.000000        7.000000        7.000000  \n",
       "max          7.000000        7.000000        7.000000  \n",
       "\n",
       "[8 rows x 42 columns]"
      ]
     },
     "metadata": {},
     "output_type": "display_data"
    }
   ],
   "source": [
    "df = pd.read_csv('dataset/survey_results_public.csv', sep=',')\n",
    "display(df.describe())"
   ]
  },
  {
   "cell_type": "markdown",
   "metadata": {},
   "source": [
    "## Chosen Attributes\n",
    "\n",
    "Most of the Dataset attributes consisted in **answers to open question** which would have been hard to manage and also contained mixed-type data.\n",
    "\n",
    "Among the user's information the following attributes have been chosen:\n",
    "\n",
    "- **Hobby**: *True if the user considers Coding a Hobby.*\n",
    "- **OpenSource**: *True if the user considers itself an OpenSource supporter*\n",
    "- **Country**: *The user's Country of origin*\n",
    "- **Employment**: *The user's employement type (Full-Time Part-Time...)*\n",
    "- **Formal Education**: *The user's Formal Education (e.g., Bachelor, Master's Degree, etc.)*\n",
    "- **Undergrad Major**: *The user's major during it's Undergraduate studies*\n",
    "- **Job Satisfaction**: *A score between 1 and 7 representing the user's Jobs Satisfaction*\n",
    "- **Converted Salary**: *The user's Salary Converted in USD*"
   ]
  },
  {
   "cell_type": "code",
   "execution_count": 63,
   "metadata": {},
   "outputs": [
    {
     "data": {
      "text/html": [
       "<div>\n",
       "<style scoped>\n",
       "    .dataframe tbody tr th:only-of-type {\n",
       "        vertical-align: middle;\n",
       "    }\n",
       "\n",
       "    .dataframe tbody tr th {\n",
       "        vertical-align: top;\n",
       "    }\n",
       "\n",
       "    .dataframe thead th {\n",
       "        text-align: right;\n",
       "    }\n",
       "</style>\n",
       "<table border=\"1\" class=\"dataframe\">\n",
       "  <thead>\n",
       "    <tr style=\"text-align: right;\">\n",
       "      <th></th>\n",
       "      <th>Hobby</th>\n",
       "      <th>OpenSource</th>\n",
       "      <th>Country</th>\n",
       "      <th>Employment</th>\n",
       "      <th>FormalEducation</th>\n",
       "      <th>UndergradMajor</th>\n",
       "      <th>JobSatisfaction</th>\n",
       "      <th>ConvertedSalary</th>\n",
       "    </tr>\n",
       "  </thead>\n",
       "  <tbody>\n",
       "    <tr>\n",
       "      <th>1</th>\n",
       "      <td>Yes</td>\n",
       "      <td>Yes</td>\n",
       "      <td>United Kingdom</td>\n",
       "      <td>Employed full-time</td>\n",
       "      <td>Bachelor’s degree (BA, BS, B.Eng., etc.)</td>\n",
       "      <td>A natural science (ex. biology, chemistry, phy...</td>\n",
       "      <td>Moderately dissatisfied</td>\n",
       "      <td>70841.0</td>\n",
       "    </tr>\n",
       "    <tr>\n",
       "      <th>4</th>\n",
       "      <td>Yes</td>\n",
       "      <td>No</td>\n",
       "      <td>South Africa</td>\n",
       "      <td>Employed full-time</td>\n",
       "      <td>Some college/university study without earning ...</td>\n",
       "      <td>Computer science, computer engineering, or sof...</td>\n",
       "      <td>Slightly satisfied</td>\n",
       "      <td>21426.0</td>\n",
       "    </tr>\n",
       "    <tr>\n",
       "      <th>5</th>\n",
       "      <td>Yes</td>\n",
       "      <td>No</td>\n",
       "      <td>United Kingdom</td>\n",
       "      <td>Employed full-time</td>\n",
       "      <td>Bachelor’s degree (BA, BS, B.Eng., etc.)</td>\n",
       "      <td>Computer science, computer engineering, or sof...</td>\n",
       "      <td>Moderately satisfied</td>\n",
       "      <td>41671.0</td>\n",
       "    </tr>\n",
       "    <tr>\n",
       "      <th>6</th>\n",
       "      <td>Yes</td>\n",
       "      <td>Yes</td>\n",
       "      <td>United States</td>\n",
       "      <td>Employed full-time</td>\n",
       "      <td>Some college/university study without earning ...</td>\n",
       "      <td>Computer science, computer engineering, or sof...</td>\n",
       "      <td>Slightly satisfied</td>\n",
       "      <td>120000.0</td>\n",
       "    </tr>\n",
       "    <tr>\n",
       "      <th>8</th>\n",
       "      <td>Yes</td>\n",
       "      <td>Yes</td>\n",
       "      <td>United States</td>\n",
       "      <td>Employed full-time</td>\n",
       "      <td>Some college/university study without earning ...</td>\n",
       "      <td>Fine arts or performing arts (ex. graphic desi...</td>\n",
       "      <td>Moderately satisfied</td>\n",
       "      <td>250000.0</td>\n",
       "    </tr>\n",
       "  </tbody>\n",
       "</table>\n",
       "</div>"
      ],
      "text/plain": [
       "  Hobby OpenSource         Country          Employment  \\\n",
       "1   Yes        Yes  United Kingdom  Employed full-time   \n",
       "4   Yes         No    South Africa  Employed full-time   \n",
       "5   Yes         No  United Kingdom  Employed full-time   \n",
       "6   Yes        Yes   United States  Employed full-time   \n",
       "8   Yes        Yes   United States  Employed full-time   \n",
       "\n",
       "                                     FormalEducation  \\\n",
       "1           Bachelor’s degree (BA, BS, B.Eng., etc.)   \n",
       "4  Some college/university study without earning ...   \n",
       "5           Bachelor’s degree (BA, BS, B.Eng., etc.)   \n",
       "6  Some college/university study without earning ...   \n",
       "8  Some college/university study without earning ...   \n",
       "\n",
       "                                      UndergradMajor          JobSatisfaction  \\\n",
       "1  A natural science (ex. biology, chemistry, phy...  Moderately dissatisfied   \n",
       "4  Computer science, computer engineering, or sof...       Slightly satisfied   \n",
       "5  Computer science, computer engineering, or sof...     Moderately satisfied   \n",
       "6  Computer science, computer engineering, or sof...       Slightly satisfied   \n",
       "8  Fine arts or performing arts (ex. graphic desi...     Moderately satisfied   \n",
       "\n",
       "   ConvertedSalary  \n",
       "1          70841.0  \n",
       "4          21426.0  \n",
       "5          41671.0  \n",
       "6         120000.0  \n",
       "8         250000.0  "
      ]
     },
     "execution_count": 63,
     "metadata": {},
     "output_type": "execute_result"
    }
   ],
   "source": [
    "columns=['Hobby','OpenSource','Country','Employment',\\\n",
    "    'FormalEducation','UndergradMajor','JobSatisfaction','ConvertedSalary']\n",
    "\n",
    "data=df.get(columns).dropna()\n",
    "data.head()\n"
   ]
  },
  {
   "cell_type": "markdown",
   "metadata": {},
   "source": [
    "The ***JobSatisfaction*** values have been remapped into an integer scale."
   ]
  },
  {
   "cell_type": "code",
   "execution_count": 64,
   "metadata": {},
   "outputs": [],
   "source": [
    "js_dict = {\n",
    "    'Extremely dissatisfied':0,\n",
    "    'Moderately dissatisfied':1,\n",
    "    'Slightly dissatisfied':2,\n",
    "    'Neither satisfied nor dissatisfied':3,\n",
    "    'Slightly satisfied':4,\n",
    "    'Moderately satisfied':5,\n",
    "    'Extremely satisfied':6,\n",
    "}\n",
    "\n",
    "data['JobSatisfaction']=data['JobSatisfaction'].map(js_dict)"
   ]
  },
  {
   "cell_type": "markdown",
   "metadata": {},
   "source": [
    "The Dataset has been pruned from entries which had a Formal Education different from a *Bachelor's Degree, a Master's Degree or a Ph.D* to **reduce the complexity** of the Model."
   ]
  },
  {
   "cell_type": "code",
   "execution_count": 65,
   "metadata": {},
   "outputs": [],
   "source": [
    "data = data.replace('Bachelor’s degree (BA, BS, B.Eng., etc.)',\"Bachelor\")\n",
    "data = data.replace('Master’s degree (MA, MS, M.Eng., MBA, etc.)',\"Master\")\n",
    "data = data.replace('Other doctoral degree (Ph.D, Ed.D., etc.)',\"Ph.D\")\n",
    "data = data[data['FormalEducation'].isin(['Bachelor','Master','Ph.D'])]"
   ]
  },
  {
   "cell_type": "markdown",
   "metadata": {},
   "source": [
    "We considered data concearning only the **three most represented countries** in the Dataset."
   ]
  },
  {
   "cell_type": "code",
   "execution_count": 66,
   "metadata": {},
   "outputs": [],
   "source": [
    "countries=data.groupby('Country').size().sort_values()[-3:].index.tolist()\n",
    "data = data[data['Country'].isin(countries)]"
   ]
  },
  {
   "cell_type": "markdown",
   "metadata": {},
   "source": [
    "The ***Converted Salary*** attribute has been discretized into three ranges to reduce the Dataset Complexity and to Work on Categorical Values."
   ]
  },
  {
   "cell_type": "code",
   "execution_count": 67,
   "metadata": {},
   "outputs": [
    {
     "data": {
      "text/plain": [
       "<AxesSubplot:>"
      ]
     },
     "execution_count": 67,
     "metadata": {},
     "output_type": "execute_result"
    },
    {
     "data": {
      "image/png": "[encoded data removed]",
      "text/plain": [
       "<Figure size 720x576 with 1 Axes>"
      ]
     },
     "metadata": {
      "needs_background": "light"
     },
     "output_type": "display_data"
    }
   ],
   "source": [
    "plt.figure(figsize=(10,8))\n",
    "data.ConvertedSalary=data.ConvertedSalary.map(lambda x: '0-250.000' if x<=250000 else '250.000-1.000.000' if x<=1000000 else '1.000.000+')\n",
    "data.ConvertedSalary.hist()\n"
   ]
  },
  {
   "cell_type": "markdown",
   "metadata": {},
   "source": [
    "The ***Undergrad Major*** Attribute has been Binarized into \"STEM\" and \"NON STEM\" majors."
   ]
  },
  {
   "cell_type": "code",
   "execution_count": 68,
   "metadata": {},
   "outputs": [],
   "source": [
    "stem=['A natural science (ex. biology, chemistry, physics)',\n",
    " 'Computer science, computer engineering, or software engineering',\n",
    " 'Web development or web design',\n",
    " 'Another engineering discipline (ex. civil, electrical, mechanical)',\n",
    " 'Mathematics or statistics',\n",
    " 'Information systems, information technology, or system administration',\n",
    "]\n",
    "\n",
    "not_stem=[ 'A social science (ex. anthropology, psychology, political science)',\n",
    " 'A humanities discipline (ex. literature, history, philosophy)',\n",
    " 'A business discipline (ex. accounting, finance, marketing)',\n",
    " 'Fine arts or performing arts (ex. graphic design, music, studio art)',\n",
    " 'A health science (ex. nursing, pharmacy, radiology)',\n",
    "]\n",
    "\n",
    "data=data[data['UndergradMajor'].isin(stem+not_stem)]\n",
    "data.UndergradMajor=data.UndergradMajor.map(lambda x: 'STEM' if x in stem else 'NOT_STEM')\n",
    "\n",
    "\n"
   ]
  },
  {
   "cell_type": "markdown",
   "metadata": {},
   "source": [
    "### Content of the Dataset after applying pre-processing:"
   ]
  },
  {
   "cell_type": "code",
   "execution_count": 69,
   "metadata": {},
   "outputs": [
    {
     "data": {
      "text/html": [
       "<div>\n",
       "<style scoped>\n",
       "    .dataframe tbody tr th:only-of-type {\n",
       "        vertical-align: middle;\n",
       "    }\n",
       "\n",
       "    .dataframe tbody tr th {\n",
       "        vertical-align: top;\n",
       "    }\n",
       "\n",
       "    .dataframe thead th {\n",
       "        text-align: right;\n",
       "    }\n",
       "</style>\n",
       "<table border=\"1\" class=\"dataframe\">\n",
       "  <thead>\n",
       "    <tr style=\"text-align: right;\">\n",
       "      <th></th>\n",
       "      <th>Hobby</th>\n",
       "      <th>OpenSource</th>\n",
       "      <th>Country</th>\n",
       "      <th>Employment</th>\n",
       "      <th>FormalEducation</th>\n",
       "      <th>UndergradMajor</th>\n",
       "      <th>JobSatisfaction</th>\n",
       "      <th>ConvertedSalary</th>\n",
       "    </tr>\n",
       "  </thead>\n",
       "  <tbody>\n",
       "    <tr>\n",
       "      <th>1</th>\n",
       "      <td>Yes</td>\n",
       "      <td>Yes</td>\n",
       "      <td>United Kingdom</td>\n",
       "      <td>Employed full-time</td>\n",
       "      <td>Bachelor</td>\n",
       "      <td>STEM</td>\n",
       "      <td>1</td>\n",
       "      <td>0-250.000</td>\n",
       "    </tr>\n",
       "    <tr>\n",
       "      <th>5</th>\n",
       "      <td>Yes</td>\n",
       "      <td>No</td>\n",
       "      <td>United Kingdom</td>\n",
       "      <td>Employed full-time</td>\n",
       "      <td>Bachelor</td>\n",
       "      <td>STEM</td>\n",
       "      <td>5</td>\n",
       "      <td>0-250.000</td>\n",
       "    </tr>\n",
       "    <tr>\n",
       "      <th>22</th>\n",
       "      <td>No</td>\n",
       "      <td>No</td>\n",
       "      <td>United Kingdom</td>\n",
       "      <td>Employed full-time</td>\n",
       "      <td>Bachelor</td>\n",
       "      <td>STEM</td>\n",
       "      <td>4</td>\n",
       "      <td>0-250.000</td>\n",
       "    </tr>\n",
       "    <tr>\n",
       "      <th>24</th>\n",
       "      <td>Yes</td>\n",
       "      <td>No</td>\n",
       "      <td>India</td>\n",
       "      <td>Employed full-time</td>\n",
       "      <td>Master</td>\n",
       "      <td>STEM</td>\n",
       "      <td>5</td>\n",
       "      <td>0-250.000</td>\n",
       "    </tr>\n",
       "    <tr>\n",
       "      <th>27</th>\n",
       "      <td>No</td>\n",
       "      <td>No</td>\n",
       "      <td>United States</td>\n",
       "      <td>Employed full-time</td>\n",
       "      <td>Bachelor</td>\n",
       "      <td>NOT_STEM</td>\n",
       "      <td>5</td>\n",
       "      <td>250.000-1.000.000</td>\n",
       "    </tr>\n",
       "  </tbody>\n",
       "</table>\n",
       "</div>"
      ],
      "text/plain": [
       "   Hobby OpenSource         Country          Employment FormalEducation  \\\n",
       "1    Yes        Yes  United Kingdom  Employed full-time        Bachelor   \n",
       "5    Yes         No  United Kingdom  Employed full-time        Bachelor   \n",
       "22    No         No  United Kingdom  Employed full-time        Bachelor   \n",
       "24   Yes         No           India  Employed full-time          Master   \n",
       "27    No         No   United States  Employed full-time        Bachelor   \n",
       "\n",
       "   UndergradMajor  JobSatisfaction    ConvertedSalary  \n",
       "1            STEM                1          0-250.000  \n",
       "5            STEM                5          0-250.000  \n",
       "22           STEM                4          0-250.000  \n",
       "24           STEM                5          0-250.000  \n",
       "27       NOT_STEM                5  250.000-1.000.000  "
      ]
     },
     "metadata": {},
     "output_type": "display_data"
    },
    {
     "name": "stdout",
     "output_type": "stream",
     "text": [
      "Hobby ['Yes' 'No']\n",
      "OpenSource ['Yes' 'No']\n",
      "Country ['United Kingdom' 'India' 'United States']\n",
      "Employment ['Employed full-time' 'Employed part-time'\n",
      " 'Independent contractor, freelancer, or self-employed']\n",
      "FormalEducation ['Bachelor' 'Master' 'Ph.D']\n",
      "UndergradMajor ['STEM' 'NOT_STEM']\n",
      "JobSatisfaction [1 5 4 0 6 2 3]\n",
      "ConvertedSalary ['0-250.000' '250.000-1.000.000' '1.000.000+']\n"
     ]
    }
   ],
   "source": [
    "display(data.head())\n",
    "for col in data.columns: \n",
    "    print(col,data[col].unique())"
   ]
  },
  {
   "cell_type": "markdown",
   "metadata": {},
   "source": [
    "## Bayesian Network Creation"
   ]
  },
  {
   "cell_type": "markdown",
   "metadata": {},
   "source": [
    "We decided to test the Dataset Attribute independence through a $Chi^2 Test$ since we are working with Categorical Values.\n",
    "\n",
    "Each attribute's indipendence has been tested with all the others and a Contingency matrix has been Created. "
   ]
  },
  {
   "cell_type": "markdown",
   "metadata": {},
   "source": [
    "*Function that computes Tests on all the Dataset Attributes independences and creates a Contingency matrix*:\n",
    "\n",
    "- For Readability We decided to set all the the test outpus to 1 if their p values are greater or equal to $\\alpha$."
   ]
  },
  {
   "cell_type": "code",
   "execution_count": null,
   "metadata": {},
   "outputs": [],
   "source": []
  },
  {
   "cell_type": "markdown",
   "metadata": {},
   "source": [
    "### Chi-Square Test:\n",
    "\n",
    "The Chi-square test of independence is a statistical hypothesis test used to determine whether two categorical or nominal variables are likely to be related or not.\n",
    "\n",
    "A test of independence assesses whether observations consisting of measures on two variables, expressed in a contingency table, are independent of each other.\n",
    "\n",
    "The test Consists in the following steps:\n",
    "\n",
    "1. Defining an Hypothesis:\n",
    "     - `Null Hypothesis (H0)`: Two variables are independent.\n",
    "     - `Alternate Hypothesis (H1)`: Two variables are not independent.\n",
    "2. Calculating a **Contingency Table** for both Attributes tested:\n",
    "     - Table showing the distribution of one variable in rows and another in columns.\n",
    "3. Find the Expected Value\n",
    "     - $A$ and $B$ are independent iff $P(A \\cap B)=P(A)* P(B)$\n",
    "4. Calculate the $p-value$:\n",
    "     - $\\chi^2=\\Sigma\\frac{(O_i-E_i)^2}{E_i}$\n",
    "     - Where:\n",
    "       - $E_i$ is the expected value computed in the previous step.\n",
    "       - $O_i$ is the number of observations of type $i$\n",
    "5. Accept or Reject The Hypothesis:\n",
    "     - Decide $\\alpha$ = Significance level of the Test\n",
    "     - if: $p-value>\\alpha$ `H0` is accepted.\n",
    "     - Otherwise: `H1` is accepted\n"
   ]
  },
  {
   "cell_type": "code",
   "execution_count": 70,
   "metadata": {},
   "outputs": [],
   "source": [
    "def chi2_contingency_mat(data,alpha=None):\n",
    "    s=data.columns.size\n",
    "    a = 0\n",
    "    b = 0\n",
    "    mat=np.zeros((s,s))\n",
    "    for i in data.columns:\n",
    "        for j in data.columns:\n",
    "            contigency_pct = pd.crosstab(data[i], data[j])\n",
    "            c, p, dof, expected = chi2_contingency(contigency_pct)\n",
    "            mat[a][b]=p\n",
    "            b=b+1\n",
    "        a = a+1\n",
    "        b=0\n",
    "    if alpha:\n",
    "        mat[mat>=alpha]=1\n",
    "        mat[mat<alpha]=0\n",
    "    return mat\n"
   ]
  },
  {
   "cell_type": "markdown",
   "metadata": {},
   "source": [
    "$Chi^2$ Contingency matrix plot:\n",
    "\n",
    "- $\\alpha$ has been set to $5\\times e^{-7}$ to take in consideration only **Highly Dependant** attributes and take less risk in misjudging the results."
   ]
  },
  {
   "cell_type": "code",
   "execution_count": 72,
   "metadata": {},
   "outputs": [
    {
     "data": {
      "text/plain": [
       "<AxesSubplot:>"
      ]
     },
     "execution_count": 72,
     "metadata": {},
     "output_type": "execute_result"
    },
    {
     "data": {
      "image/png": "[encoded data removed]",
      "text/plain": [
       "<Figure size 720x576 with 2 Axes>"
      ]
     },
     "metadata": {
      "needs_background": "light"
     },
     "output_type": "display_data"
    }
   ],
   "source": [
    "chi2Mat=chi2_contingency_mat(data,5e-7)\n",
    "labels = list(data.columns)\n",
    "plt.figure(figsize=(10,8))\n",
    "sns.heatmap(chi2Mat,annot=True, xticklabels=labels, yticklabels=labels,cmap=\"YlGnBu\")"
   ]
  },
  {
   "cell_type": "markdown",
   "metadata": {},
   "source": [
    "As we can see the *Employment* column doesn't really look significative compared to other attributes, so we decided to drop it and recompute the Contingency matrix."
   ]
  },
  {
   "cell_type": "code",
   "execution_count": 74,
   "metadata": {},
   "outputs": [
    {
     "data": {
      "text/plain": [
       "<AxesSubplot:>"
      ]
     },
     "execution_count": 74,
     "metadata": {},
     "output_type": "execute_result"
    },
    {
     "data": {
      "image/png": "[encoded data removed]",
      "text/plain": [
       "<Figure size 720x576 with 2 Axes>"
      ]
     },
     "metadata": {
      "needs_background": "light"
     },
     "output_type": "display_data"
    }
   ],
   "source": [
    "data = data.drop('Employment', axis=1)\n",
    "chi2Mat=chi2_contingency_mat(data,5e-3)\n",
    "labels = list(data.columns)\n",
    "plt.figure(figsize=(10,8))\n",
    "sns.heatmap(chi2Mat,annot=True, xticklabels=labels, yticklabels=labels,cmap=\"YlGnBu\")"
   ]
  },
  {
   "cell_type": "markdown",
   "metadata": {},
   "source": [
    "## GRAPH PLOTTING"
   ]
  },
  {
   "cell_type": "code",
   "execution_count": 75,
   "metadata": {},
   "outputs": [],
   "source": [
    "def compute_graph_table(data, chi2Mat):\n",
    "\n",
    "    graph_table = pd.DataFrame()\n",
    "\n",
    "\n",
    "    source = []\n",
    "    target=[]\n",
    "\n",
    "    a=1\n",
    "    for i in range(data.columns.size):\n",
    "        for j in range(a, data.columns.size):\n",
    "            if chi2Mat[i][j]==0:\n",
    "                source.append(data.columns[i])\n",
    "                target.append(data.columns[j])\n",
    "        a=a+1\n",
    "\n",
    "    type=['Unidirected' for i in range(len(source))]\n",
    "    weight=[None for i in range(len(source))]\n",
    "    graph_table['Source']=source\n",
    "    graph_table['Target']=target\n",
    "    graph_table['Type']=type\n",
    "    graph_table['weight']=weight\n",
    "    return graph_table\n"
   ]
  },
  {
   "cell_type": "code",
   "execution_count": 76,
   "metadata": {},
   "outputs": [
    {
     "data": {
      "text/html": [
       "<div>\n",
       "<style scoped>\n",
       "    .dataframe tbody tr th:only-of-type {\n",
       "        vertical-align: middle;\n",
       "    }\n",
       "\n",
       "    .dataframe tbody tr th {\n",
       "        vertical-align: top;\n",
       "    }\n",
       "\n",
       "    .dataframe thead th {\n",
       "        text-align: right;\n",
       "    }\n",
       "</style>\n",
       "<table border=\"1\" class=\"dataframe\">\n",
       "  <thead>\n",
       "    <tr style=\"text-align: right;\">\n",
       "      <th></th>\n",
       "      <th>Source</th>\n",
       "      <th>Target</th>\n",
       "      <th>Type</th>\n",
       "      <th>weight</th>\n",
       "    </tr>\n",
       "  </thead>\n",
       "  <tbody>\n",
       "    <tr>\n",
       "      <th>0</th>\n",
       "      <td>Hobby</td>\n",
       "      <td>OpenSource</td>\n",
       "      <td>Unidirected</td>\n",
       "      <td>None</td>\n",
       "    </tr>\n",
       "    <tr>\n",
       "      <th>1</th>\n",
       "      <td>OpenSource</td>\n",
       "      <td>Country</td>\n",
       "      <td>Unidirected</td>\n",
       "      <td>None</td>\n",
       "    </tr>\n",
       "    <tr>\n",
       "      <th>2</th>\n",
       "      <td>OpenSource</td>\n",
       "      <td>FormalEducation</td>\n",
       "      <td>Unidirected</td>\n",
       "      <td>None</td>\n",
       "    </tr>\n",
       "    <tr>\n",
       "      <th>3</th>\n",
       "      <td>OpenSource</td>\n",
       "      <td>JobSatisfaction</td>\n",
       "      <td>Unidirected</td>\n",
       "      <td>None</td>\n",
       "    </tr>\n",
       "    <tr>\n",
       "      <th>4</th>\n",
       "      <td>Country</td>\n",
       "      <td>FormalEducation</td>\n",
       "      <td>Unidirected</td>\n",
       "      <td>None</td>\n",
       "    </tr>\n",
       "    <tr>\n",
       "      <th>5</th>\n",
       "      <td>Country</td>\n",
       "      <td>UndergradMajor</td>\n",
       "      <td>Unidirected</td>\n",
       "      <td>None</td>\n",
       "    </tr>\n",
       "    <tr>\n",
       "      <th>6</th>\n",
       "      <td>Country</td>\n",
       "      <td>JobSatisfaction</td>\n",
       "      <td>Unidirected</td>\n",
       "      <td>None</td>\n",
       "    </tr>\n",
       "    <tr>\n",
       "      <th>7</th>\n",
       "      <td>Country</td>\n",
       "      <td>ConvertedSalary</td>\n",
       "      <td>Unidirected</td>\n",
       "      <td>None</td>\n",
       "    </tr>\n",
       "    <tr>\n",
       "      <th>8</th>\n",
       "      <td>FormalEducation</td>\n",
       "      <td>JobSatisfaction</td>\n",
       "      <td>Unidirected</td>\n",
       "      <td>None</td>\n",
       "    </tr>\n",
       "    <tr>\n",
       "      <th>9</th>\n",
       "      <td>FormalEducation</td>\n",
       "      <td>ConvertedSalary</td>\n",
       "      <td>Unidirected</td>\n",
       "      <td>None</td>\n",
       "    </tr>\n",
       "    <tr>\n",
       "      <th>10</th>\n",
       "      <td>UndergradMajor</td>\n",
       "      <td>JobSatisfaction</td>\n",
       "      <td>Unidirected</td>\n",
       "      <td>None</td>\n",
       "    </tr>\n",
       "  </tbody>\n",
       "</table>\n",
       "</div>"
      ],
      "text/plain": [
       "             Source           Target         Type weight\n",
       "0             Hobby       OpenSource  Unidirected   None\n",
       "1        OpenSource          Country  Unidirected   None\n",
       "2        OpenSource  FormalEducation  Unidirected   None\n",
       "3        OpenSource  JobSatisfaction  Unidirected   None\n",
       "4           Country  FormalEducation  Unidirected   None\n",
       "5           Country   UndergradMajor  Unidirected   None\n",
       "6           Country  JobSatisfaction  Unidirected   None\n",
       "7           Country  ConvertedSalary  Unidirected   None\n",
       "8   FormalEducation  JobSatisfaction  Unidirected   None\n",
       "9   FormalEducation  ConvertedSalary  Unidirected   None\n",
       "10   UndergradMajor  JobSatisfaction  Unidirected   None"
      ]
     },
     "execution_count": 76,
     "metadata": {},
     "output_type": "execute_result"
    }
   ],
   "source": [
    "graph_table = compute_graph_table(data, chi2Mat)\n",
    "graph_table"
   ]
  },
  {
   "cell_type": "code",
   "execution_count": 77,
   "metadata": {},
   "outputs": [
    {
     "data": {
      "image/png": "[encoded data removed]",
      "text/plain": [
       "<Figure size 720x576 with 1 Axes>"
      ]
     },
     "metadata": {},
     "output_type": "display_data"
    }
   ],
   "source": [
    "import networkx as nx\n",
    "\n",
    "G = nx.from_pandas_edgelist(graph_table, source='Source', target='Target',create_using=nx.DiGraph())\n",
    "# net = Network(notebook=True, directed=True)\n",
    "# net.from_nx(G)\n",
    "# net.show('nx.html')\n",
    "pos={'Hobby':(0.5,10),\n",
    "     'JobSatisfaction':(2,7),\n",
    "     'OpenSource':(0.5,7),\n",
    "     'FormalEducation':(0.5,3),\n",
    "     'Country':(2,3),\n",
    "     'ConvertedSalary':(1.25,1),\n",
    "     'UndergradMajor':(3,5)\n",
    " }\n",
    "plt.figure(figsize=(10,8))\n",
    "\n",
    "nx.draw(G, arrows=True, with_labels=True, node_size=7000, arrowsize=20, pos=pos, font_size=10, font_color='white')\n",
    "# print(G.edges())"
   ]
  },
  {
   "cell_type": "markdown",
   "metadata": {},
   "source": [
    "## Markov Blanket Plotting"
   ]
  },
  {
   "cell_type": "code",
   "execution_count": 78,
   "metadata": {},
   "outputs": [
    {
     "data": {
      "image/png": "[encoded data removed]",
      "text/plain": [
       "<Figure size 720x576 with 1 Axes>"
      ]
     },
     "metadata": {},
     "output_type": "display_data"
    }
   ],
   "source": [
    "#Function to extract the Markov Blanket of a Node from the Graph\n",
    "def get_mb(graph, node):\n",
    "    mb = set()\n",
    "    parents = [i for i in graph.predecessors(node)]\n",
    "    mb.update(parents)\n",
    "    sons = [i for i in graph.successors(node)]\n",
    "    mb.update(sons)\n",
    "    sons_parents=[]\n",
    "    for s in sons:\n",
    "        sons_parents.extend([i for i in graph.predecessors(s) if i != node])\n",
    "\n",
    "    mb.update(sons_parents)\n",
    "    return mb\n",
    "\n",
    "#Markov Blanket Plotting Function\n",
    "def plot_mb(G, mb, node):\n",
    "    pos={'Hobby':(0.5,10),\n",
    "     'JobSatisfaction':(2,7),\n",
    "     'OpenSource':(0.5,7),\n",
    "     'FormalEducation':(0.5,3),\n",
    "     'Country':(2,3),\n",
    "     'ConvertedSalary':(1.25,1),\n",
    "     'UndergradMajor':(3,5)\n",
    "    }\n",
    "    plt.figure(figsize=(10,8))\n",
    "    color_map=[]\n",
    "    for n in G:\n",
    "        if n in mb:\n",
    "            color_map.append('green')\n",
    "        elif n == node:\n",
    "            color_map.append('red')\n",
    "        else: \n",
    "            color_map.append('blue')  \n",
    "    nx.draw(G, arrows=True,node_color=color_map, with_labels=True, node_size=7000, arrowsize=20, pos=pos, font_size=10, font_color='white')\n",
    "\n",
    "mb=get_mb(G, 'OpenSource')\n",
    "plot_mb(G, mb, 'OpenSource')\n",
    "plt.show()"
   ]
  },
  {
   "cell_type": "markdown",
   "metadata": {},
   "source": [
    "## PGMPY"
   ]
  },
  {
   "cell_type": "markdown",
   "metadata": {},
   "source": [
    "Function that computes the Graph Edges using the Upper triangular part of the $chi^2$ matrix as an adjacency Table."
   ]
  },
  {
   "cell_type": "code",
   "execution_count": 79,
   "metadata": {},
   "outputs": [
    {
     "data": {
      "text/plain": [
       "[('Hobby', 'OpenSource'),\n",
       " ('OpenSource', 'Country'),\n",
       " ('OpenSource', 'FormalEducation'),\n",
       " ('OpenSource', 'JobSatisfaction'),\n",
       " ('Country', 'FormalEducation'),\n",
       " ('Country', 'UndergradMajor'),\n",
       " ('Country', 'JobSatisfaction'),\n",
       " ('Country', 'ConvertedSalary'),\n",
       " ('FormalEducation', 'JobSatisfaction'),\n",
       " ('FormalEducation', 'ConvertedSalary'),\n",
       " ('UndergradMajor', 'JobSatisfaction')]"
      ]
     },
     "execution_count": 79,
     "metadata": {},
     "output_type": "execute_result"
    }
   ],
   "source": [
    "def getEdges(mat,names=[]):\n",
    "    result=[]\n",
    "    l,_=mat.shape\n",
    "    for i in range(l): \n",
    "        for j in range(i+1,l):\n",
    "            if mat[i,j]==0:\n",
    "                if len(names)>0:\n",
    "                    result.append((names[i],names[j]))\n",
    "                else: result.append((i,j))\n",
    "    return result    \n",
    "edges=getEdges(chi2Mat,names=data.columns)\n",
    "edges"
   ]
  },
  {
   "cell_type": "code",
   "execution_count": 80,
   "metadata": {},
   "outputs": [
    {
     "name": "stdout",
     "output_type": "stream",
     "text": [
      "+------------+----------+\n",
      "| Hobby(No)  | 0.199923 |\n",
      "+------------+----------+\n",
      "| Hobby(Yes) | 0.800077 |\n",
      "+------------+----------+\n",
      "+-----------------+--------------------+---------------------+\n",
      "| Hobby           | Hobby(No)          | Hobby(Yes)          |\n",
      "+-----------------+--------------------+---------------------+\n",
      "| OpenSource(No)  | 0.7966101694915254 | 0.49800223749400674 |\n",
      "+-----------------+--------------------+---------------------+\n",
      "| OpenSource(Yes) | 0.2033898305084746 | 0.5019977625059933  |\n",
      "+-----------------+--------------------+---------------------+\n",
      "+-------------------------+---------------------+---------------------+\n",
      "| OpenSource              | OpenSource(No)      | OpenSource(Yes)     |\n",
      "+-------------------------+---------------------+---------------------+\n",
      "| Country(India)          | 0.20440215522182736 | 0.24486845909222318 |\n",
      "+-------------------------+---------------------+---------------------+\n",
      "| Country(United Kingdom) | 0.17872291642783447 | 0.16536571263370917 |\n",
      "+-------------------------+---------------------+---------------------+\n",
      "| Country(United States)  | 0.6168749283503382  | 0.5897658282740676  |\n",
      "+-------------------------+---------------------+---------------------+\n",
      "+---------------------------+-----+------------------------+\n",
      "| Country                   | ... | Country(United States) |\n",
      "+---------------------------+-----+------------------------+\n",
      "| OpenSource                | ... | OpenSource(Yes)        |\n",
      "+---------------------------+-----+------------------------+\n",
      "| FormalEducation(Bachelor) | ... | 0.7134803921568628     |\n",
      "+---------------------------+-----+------------------------+\n",
      "| FormalEducation(Master)   | ... | 0.24215686274509804    |\n",
      "+---------------------------+-----+------------------------+\n",
      "| FormalEducation(Ph.D)     | ... | 0.04436274509803922    |\n",
      "+---------------------------+-----+------------------------+\n",
      "+--------------------+-----+------------------------+\n",
      "| Country            | ... | Country(United States) |\n",
      "+--------------------+-----+------------------------+\n",
      "| FormalEducation    | ... | FormalEducation(Ph.D)  |\n",
      "+--------------------+-----+------------------------+\n",
      "| OpenSource         | ... | OpenSource(Yes)        |\n",
      "+--------------------+-----+------------------------+\n",
      "| UndergradMajor     | ... | UndergradMajor(STEM)   |\n",
      "+--------------------+-----+------------------------+\n",
      "| JobSatisfaction(0) | ... | 0.05806451612903226    |\n",
      "+--------------------+-----+------------------------+\n",
      "| JobSatisfaction(1) | ... | 0.05806451612903226    |\n",
      "+--------------------+-----+------------------------+\n",
      "| JobSatisfaction(2) | ... | 0.08387096774193549    |\n",
      "+--------------------+-----+------------------------+\n",
      "| JobSatisfaction(3) | ... | 0.025806451612903226   |\n",
      "+--------------------+-----+------------------------+\n",
      "| JobSatisfaction(4) | ... | 0.08387096774193549    |\n",
      "+--------------------+-----+------------------------+\n",
      "| JobSatisfaction(5) | ... | 0.3741935483870968     |\n",
      "+--------------------+-----+------------------------+\n",
      "| JobSatisfaction(6) | ... | 0.3161290322580645     |\n",
      "+--------------------+-----+------------------------+\n",
      "+--------------------------+-----+------------------------+\n",
      "| Country                  | ... | Country(United States) |\n",
      "+--------------------------+-----+------------------------+\n",
      "| UndergradMajor(NOT_STEM) | ... | 0.15759433463693057    |\n",
      "+--------------------------+-----+------------------------+\n",
      "| UndergradMajor(STEM)     | ... | 0.8424056653630695     |\n",
      "+--------------------------+-----+------------------------+\n",
      "+-----+------------------------+\n",
      "| ... | Country(United States) |\n",
      "+-----+------------------------+\n",
      "| ... | FormalEducation(Ph.D)  |\n",
      "+-----+------------------------+\n",
      "| ... | 0.9244712990936556     |\n",
      "+-----+------------------------+\n",
      "| ... | 0.027190332326283987   |\n",
      "+-----+------------------------+\n",
      "| ... | 0.04833836858006042    |\n",
      "+-----+------------------------+\n"
     ]
    },
    {
     "data": {
      "image/png": "[encoded data removed]",
      "text/plain": [
       "<Figure size 720x576 with 1 Axes>"
      ]
     },
     "metadata": {},
     "output_type": "display_data"
    }
   ],
   "source": [
    "from pgmpy.models import BayesianNetwork\n",
    "from pgmpy.estimators import ParameterEstimator, MaximumLikelihoodEstimator\n",
    "\n",
    "model= BayesianNetwork(edges)\n",
    "# pe = ParameterEstimator(model, data)\n",
    "model.fit(data, estimator=MaximumLikelihoodEstimator)\n",
    "for cpd in model.get_cpds():\n",
    "    print(cpd)\n",
    "\n",
    "model.get_independencies()\n",
    "\n",
    "plot_mb(G, model.get_markov_blanket('JobSatisfaction'), 'JobSatisfaction')\n"
   ]
  },
  {
   "cell_type": "markdown",
   "metadata": {},
   "source": [
    "# Markov Blanket Notes\n",
    "\"What the Markov Blanket says, is that all information about a random variable in a Bayesian network is contained within this set of nodes (parents, children, and parents of children). That is, if we observe ALL OF THESE variables, then our node is independent of all other nodes within the network.\""
   ]
  },
  {
   "cell_type": "code",
   "execution_count": 81,
   "metadata": {},
   "outputs": [
    {
     "data": {
      "image/png": "[encoded data removed]",
      "text/plain": [
       "<Figure size 720x576 with 1 Axes>"
      ]
     },
     "metadata": {},
     "output_type": "display_data"
    }
   ],
   "source": [
    "plot_mb(G, model.get_markov_blanket('ConvertedSalary'), 'ConvertedSalary')"
   ]
  },
  {
   "cell_type": "markdown",
   "metadata": {},
   "source": [
    "As we can see asking the BN the probability of having a certain Converted Salary given its Markov Blanket is the same as adding evidence to other nodes that aren't part of it.\n",
    "This means that Converted Salary is independent to other nodes."
   ]
  },
  {
   "cell_type": "code",
   "execution_count": 82,
   "metadata": {},
   "outputs": [
    {
     "name": "stderr",
     "output_type": "stream",
     "text": [
      "Finding Elimination Order: : : 0it [00:00, ?it/s]\n",
      "0it [00:00, ?it/s]\n"
     ]
    },
    {
     "name": "stdout",
     "output_type": "stream",
     "text": [
      "+------------------------------------+------------------------+\n",
      "| ConvertedSalary                    |   phi(ConvertedSalary) |\n",
      "+====================================+========================+\n",
      "| ConvertedSalary(0-250.000)         |                 0.9836 |\n",
      "+------------------------------------+------------------------+\n",
      "| ConvertedSalary(1.000.000+)        |                 0.0008 |\n",
      "+------------------------------------+------------------------+\n",
      "| ConvertedSalary(250.000-1.000.000) |                 0.0156 |\n",
      "+------------------------------------+------------------------+\n",
      "P(ConvertedSalary | Country=India, FormalEducation=Bachelor)\n"
     ]
    },
    {
     "name": "stderr",
     "output_type": "stream",
     "text": [
      "Finding Elimination Order: : : 0it [00:00, ?it/s]\n",
      "0it [00:00, ?it/s]"
     ]
    },
    {
     "name": "stdout",
     "output_type": "stream",
     "text": [
      "+------------------------------------+------------------------+\n",
      "| ConvertedSalary                    |   phi(ConvertedSalary) |\n",
      "+====================================+========================+\n",
      "| ConvertedSalary(0-250.000)         |                 0.9836 |\n",
      "+------------------------------------+------------------------+\n",
      "| ConvertedSalary(1.000.000+)        |                 0.0008 |\n",
      "+------------------------------------+------------------------+\n",
      "| ConvertedSalary(250.000-1.000.000) |                 0.0156 |\n",
      "+------------------------------------+------------------------+\n",
      "P(ConvertedSalary | Country=India, FormalEducation=Bachelor, OpenSource=Yes)\n"
     ]
    },
    {
     "name": "stderr",
     "output_type": "stream",
     "text": [
      "\n"
     ]
    }
   ],
   "source": [
    "from pgmpy.inference import VariableElimination\n",
    "inference = VariableElimination(model)\n",
    "\n",
    "pSalary1 = inference.query(['ConvertedSalary'],{'Country':'India','FormalEducation':'Bachelor'})\n",
    "print(pSalary1)\n",
    "print(\"P(ConvertedSalary | Country=India, FormalEducation=Bachelor)\")\n",
    "pSalary2 = inference.query(['ConvertedSalary'],{'Country':'India','FormalEducation':'Bachelor','OpenSource':'Yes'})\n",
    "print(pSalary2)\n",
    "print(\"P(ConvertedSalary | Country=India, FormalEducation=Bachelor, OpenSource=Yes)\")"
   ]
  },
  {
   "cell_type": "markdown",
   "metadata": {},
   "source": [
    "# Other Queries on Nodes"
   ]
  },
  {
   "cell_type": "code",
   "execution_count": 83,
   "metadata": {},
   "outputs": [
    {
     "ename": "TypeError",
     "evalue": "BayesianModelSampling.__init__() missing 1 required positional argument: 'model'",
     "output_type": "error",
     "traceback": [
      "\u001b[1;31m---------------------------------------------------------------------------\u001b[0m",
      "\u001b[1;31mTypeError\u001b[0m                                 Traceback (most recent call last)",
      "\u001b[1;32md:\\Progetti\\Python\\FAIKR\\faikr-bn\\demo_V3.ipynb Cell 40'\u001b[0m in \u001b[0;36m<cell line: 5>\u001b[1;34m()\u001b[0m\n\u001b[0;32m      <a href='vscode-notebook-cell:/d%3A/Progetti/Python/FAIKR/faikr-bn/demo_V3.ipynb#ch0000035?line=1'>2</a>\u001b[0m \u001b[39mfrom\u001b[39;00m \u001b[39mpgmpy\u001b[39;00m\u001b[39m.\u001b[39;00m\u001b[39mfactors\u001b[39;00m\u001b[39m.\u001b[39;00m\u001b[39mdiscrete\u001b[39;00m \u001b[39mimport\u001b[39;00m State\n\u001b[0;32m      <a href='vscode-notebook-cell:/d%3A/Progetti/Python/FAIKR/faikr-bn/demo_V3.ipynb#ch0000035?line=2'>3</a>\u001b[0m \u001b[39mfrom\u001b[39;00m \u001b[39mpgmpy\u001b[39;00m\u001b[39m.\u001b[39;00m\u001b[39msampling\u001b[39;00m \u001b[39mimport\u001b[39;00m BayesianModelSampling\n\u001b[1;32m----> <a href='vscode-notebook-cell:/d%3A/Progetti/Python/FAIKR/faikr-bn/demo_V3.ipynb#ch0000035?line=4'>5</a>\u001b[0m inference \u001b[39m=\u001b[39m BayesianModelSampling()\n\u001b[0;32m      <a href='vscode-notebook-cell:/d%3A/Progetti/Python/FAIKR/faikr-bn/demo_V3.ipynb#ch0000035?line=5'>6</a>\u001b[0m evidence \u001b[39m=\u001b[39m [State(\u001b[39m'\u001b[39m\u001b[39mWetGrass\u001b[39m\u001b[39m'\u001b[39m, \u001b[39m1\u001b[39m),State(\u001b[39m'\u001b[39m\u001b[39mSprinkler\u001b[39m\u001b[39m'\u001b[39m, \u001b[39m1\u001b[39m)]\n\u001b[0;32m      <a href='vscode-notebook-cell:/d%3A/Progetti/Python/FAIKR/faikr-bn/demo_V3.ipynb#ch0000035?line=6'>7</a>\u001b[0m verbose \u001b[39m=\u001b[39m \u001b[39mFalse\u001b[39;00m\n",
      "\u001b[1;31mTypeError\u001b[0m: BayesianModelSampling.__init__() missing 1 required positional argument: 'model'"
     ]
    }
   ],
   "source": [
    "# Now switch to sampling methods\n",
    "from pgmpy.factors.discrete import State\n",
    "from pgmpy.sampling import BayesianModelSampling\n",
    "\n",
    "inference = BayesianModelSampling()\n",
    "evidence = [State('WetGrass', 1),State('Sprinkler', 1)]\n",
    "verbose = False\n",
    "\n",
    "def prob_LW(samples,variable):\n",
    "    return round(np.sum(np.dot(samples[variable],samples['_weight']))/np.sum(samples['_weight']),2)\n",
    "\n",
    "def relative_error(exact_value,approx_value):\n",
    "    return np.absolute((exact_value-approx_value)/exact_value)\n",
    "\n",
    "def absolute_error(exact_value,approx_value):\n",
    "    return np.absolute(exact_value-approx_value)\n",
    "\n",
    "def run_experiment(sample_size):\n",
    "    # Sample\n",
    "    samples_LW = inference.likelihood_weighted_sample(evidence = evidence, size=sample_size)\n",
    "    samples_RS = inference.rejection_sample(evidence=evidence, size=sample_size)\n",
    "\n",
    "    # Statistics\n",
    "    pcloudy_LW=prob_LW(samples_LW,'Cloudy')\n",
    "    prain_LW=prob_LW(samples_LW,'Rain')\n",
    "    pcloudy_RS=np.mean(samples_RS['Cloudy'], axis=0)\n",
    "    prain_RS=np.mean(samples_RS['Rain'], axis=0)\n",
    "    \n",
    "    # Reporting\n",
    "    if(verbose):\n",
    "        print()\n",
    "        print(\"P(Cloudy=true|Sprinkler=true,WetGrass=true) =\", round(pcloudy,precision))\n",
    "        print(\"With Rejection Sampling after %d samples: %.3f (error = %.2f percent)\" \n",
    "              % (sample_size, pcloudy_RS, absolute_error(pcloudy,pcloudy_RS)*100))\n",
    "        print(\"With Likelihood Weighting after %d samples: %.3f (error = %.2f percent)\" \n",
    "              % (sample_size, pcloudy_LW, absolute_error(pcloudy,pcloudy_LW)*100))\n",
    "        print()\n",
    "        print(\"P(Rain=true|Sprinkler=true,WetGrass=true) =\", round(prain,precision))\n",
    "        print(\"With Rejection Sampling after %d samples: %.3f (error = %.2f percent)\" \n",
    "              % (sample_size, prain_RS, absolute_error(prain,prain_RS)*100))\n",
    "        print(\"With Likelihood Weighting after %d samples: %.3f (error = %.2f percent)\" \n",
    "              % (sample_size, prain_LW, absolute_error(prain,prain_LW)*100))\n",
    "    \n",
    "    # Return results\n",
    "    return np.array([(sample_size, \n",
    "                      pcloudy_RS, absolute_error(pcloudy,pcloudy_RS),\n",
    "                      pcloudy_LW, absolute_error(pcloudy,pcloudy_LW),\n",
    "                      prain_RS, absolute_error(prain,prain_RS),\n",
    "                      prain_LW, absolute_error(prain,prain_LW))], \n",
    "                    dtype=[('sample_size', '<i8'), \n",
    "                           ('pcloudy_RS', '<f8'),('e_pcloudy_RS', '<f8'),\n",
    "                           ('pcloudy_LW', '<f8'),('e_pcloudy_LW', '<f8'),\n",
    "                           ('prain_RS', '<f8'),('e_prain_RS', '<f8'),\n",
    "                           ('prain_LW', '<f8'),('e_prain_LW', '<f8')])\n",
    "\n",
    "# To view samples\n",
    "# print(samples_LW)\n",
    "# samples_LW.view()\n",
    "# print(samples_RS[:5]), print(' ... '), print(samples_RS[nsamples_RS-5:])"
   ]
  },
  {
   "cell_type": "code",
   "execution_count": 95,
   "metadata": {},
   "outputs": [
    {
     "ename": "TypeError",
     "evalue": "DAG.get_ancestral_graph() missing 1 required positional argument: 'nodes'",
     "output_type": "error",
     "traceback": [
      "\u001b[1;31m---------------------------------------------------------------------------\u001b[0m",
      "\u001b[1;31mTypeError\u001b[0m                                 Traceback (most recent call last)",
      "\u001b[1;32md:\\Progetti\\Python\\FAIKR\\faikr-bn\\demo_V3.ipynb Cell 47'\u001b[0m in \u001b[0;36m<cell line: 1>\u001b[1;34m()\u001b[0m\n\u001b[1;32m----> <a href='vscode-notebook-cell:/d%3A/Progetti/Python/FAIKR/faikr-bn/demo_V3.ipynb#ch0000054?line=0'>1</a>\u001b[0m model\u001b[39m.\u001b[39;49mget_ancestral_graph()\n",
      "\u001b[1;31mTypeError\u001b[0m: DAG.get_ancestral_graph() missing 1 required positional argument: 'nodes'"
     ]
    }
   ],
   "source": []
  }
 ],
 "metadata": {
  "interpreter": {
   "hash": "c23b91227a54c2af61c5e03a530e77c3a20e29d5fbc858ef43b726817a78fb0f"
  },
  "kernelspec": {
   "display_name": "Python 3.10.2 ('FAIKR_venv')",
   "language": "python",
   "name": "python3"
  },
  "language_info": {
   "codemirror_mode": {
    "name": "ipython",
    "version": 3
   },
   "file_extension": ".py",
   "mimetype": "text/x-python",
   "name": "python",
   "nbconvert_exporter": "python",
   "pygments_lexer": "ipython3",
   "version": "3.10.2"
  },
  "orig_nbformat": 4
 },
 "nbformat": 4,
 "nbformat_minor": 2
}
