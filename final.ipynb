{
 "cells": [
  {
   "cell_type": "markdown",
   "metadata": {},
   "source": [
    "# FAIKR Module 3 Project\n",
    "\n",
    "*Group members*:\n",
    "- Ciapponi Stefano (mat. 0001030211)\n",
    "- Cortecchia Tommaso (mat. 0001054600)"
   ]
  },
  {
   "cell_type": "markdown",
   "metadata": {},
   "source": [
    "## Aims of the Project:\n",
    "\n",
    "1. Create a **Pipeline** which is able to handle Bayesian Network creation starting from **any Dataset**.\n",
    "2. Build a **Bayesian Network Model** starting from a Dataset downloaded from Kaggle\n",
    "3. Test the Network through queries inspired by the module's content.\n"
   ]
  },
  {
   "cell_type": "markdown",
   "metadata": {},
   "source": [
    "**Library imports:**"
   ]
  },
  {
   "cell_type": "code",
   "execution_count": 1,
   "metadata": {},
   "outputs": [],
   "source": [
    "import pandas as pd\n",
    "from matplotlib import pyplot as plt\n",
    "import seaborn as sns\n",
    "from scipy.stats import chi2_contingency\n",
    "import numpy as np\n",
    "from IPython.display import display"
   ]
  },
  {
   "cell_type": "markdown",
   "metadata": {},
   "source": [
    "## The Dataset\n",
    "<a href=\"https://www.kaggle.com/datasets/stackoverflow/stack-overflow-2018-developer-survey\"> Dataset Link </a>\n",
    "\n",
    "The chosen dataset contains results from a survey Taken by the <a href=\"https://stackoverflow.com/\"> Stack Overflow Community</a> in the year 2018.\n",
    "\n",
    "The Survey originally covered numerous different topics concearning the ICT world, but we were mostly interested in **Data regarding the user profiles**.\n",
    " \n",
    "So we decided to apply some pre-processing to reduce the number of variables, but also to simplify the dataset so that the Bayesian Model built from it would become more manageable and readable.\n"
   ]
  },
  {
   "cell_type": "code",
   "execution_count": 2,
   "metadata": {},
   "outputs": [],
   "source": [
    "%%capture\n",
    "#Supresses stderr about Mixed-Type Data\n",
    "df = pd.read_csv('dataset/survey_results_public.csv', sep=',')"
   ]
  },
  {
   "cell_type": "code",
   "execution_count": 3,
   "metadata": {},
   "outputs": [
    {
     "data": {
      "text/html": [
       "<div>\n",
       "<style scoped>\n",
       "    .dataframe tbody tr th:only-of-type {\n",
       "        vertical-align: middle;\n",
       "    }\n",
       "\n",
       "    .dataframe tbody tr th {\n",
       "        vertical-align: top;\n",
       "    }\n",
       "\n",
       "    .dataframe thead th {\n",
       "        text-align: right;\n",
       "    }\n",
       "</style>\n",
       "<table border=\"1\" class=\"dataframe\">\n",
       "  <thead>\n",
       "    <tr style=\"text-align: right;\">\n",
       "      <th></th>\n",
       "      <th>Respondent</th>\n",
       "      <th>AssessJob1</th>\n",
       "      <th>AssessJob2</th>\n",
       "      <th>AssessJob3</th>\n",
       "      <th>AssessJob4</th>\n",
       "      <th>AssessJob5</th>\n",
       "      <th>AssessJob6</th>\n",
       "      <th>AssessJob7</th>\n",
       "      <th>AssessJob8</th>\n",
       "      <th>AssessJob9</th>\n",
       "      <th>...</th>\n",
       "      <th>JobEmailPriorities6</th>\n",
       "      <th>JobEmailPriorities7</th>\n",
       "      <th>ConvertedSalary</th>\n",
       "      <th>AdsPriorities1</th>\n",
       "      <th>AdsPriorities2</th>\n",
       "      <th>AdsPriorities3</th>\n",
       "      <th>AdsPriorities4</th>\n",
       "      <th>AdsPriorities5</th>\n",
       "      <th>AdsPriorities6</th>\n",
       "      <th>AdsPriorities7</th>\n",
       "    </tr>\n",
       "  </thead>\n",
       "  <tbody>\n",
       "    <tr>\n",
       "      <th>count</th>\n",
       "      <td>98855.000000</td>\n",
       "      <td>66985.000000</td>\n",
       "      <td>66985.000000</td>\n",
       "      <td>66985.000000</td>\n",
       "      <td>66985.000000</td>\n",
       "      <td>66985.000000</td>\n",
       "      <td>66985.000000</td>\n",
       "      <td>66985.000000</td>\n",
       "      <td>66985.000000</td>\n",
       "      <td>66985.000000</td>\n",
       "      <td>...</td>\n",
       "      <td>46213.00000</td>\n",
       "      <td>46213.000000</td>\n",
       "      <td>4.770200e+04</td>\n",
       "      <td>60479.000000</td>\n",
       "      <td>60479.000000</td>\n",
       "      <td>60479.000000</td>\n",
       "      <td>60479.000000</td>\n",
       "      <td>60479.000000</td>\n",
       "      <td>60479.000000</td>\n",
       "      <td>60479.000000</td>\n",
       "    </tr>\n",
       "    <tr>\n",
       "      <th>mean</th>\n",
       "      <td>50822.971635</td>\n",
       "      <td>6.397089</td>\n",
       "      <td>6.673524</td>\n",
       "      <td>5.906875</td>\n",
       "      <td>4.065791</td>\n",
       "      <td>3.953243</td>\n",
       "      <td>4.407196</td>\n",
       "      <td>5.673181</td>\n",
       "      <td>4.225200</td>\n",
       "      <td>7.640009</td>\n",
       "      <td>...</td>\n",
       "      <td>4.97425</td>\n",
       "      <td>4.836388</td>\n",
       "      <td>9.578086e+04</td>\n",
       "      <td>2.726880</td>\n",
       "      <td>3.805784</td>\n",
       "      <td>3.340945</td>\n",
       "      <td>3.782470</td>\n",
       "      <td>4.383604</td>\n",
       "      <td>5.138809</td>\n",
       "      <td>4.821459</td>\n",
       "    </tr>\n",
       "    <tr>\n",
       "      <th>std</th>\n",
       "      <td>29321.650410</td>\n",
       "      <td>2.788428</td>\n",
       "      <td>2.531202</td>\n",
       "      <td>2.642734</td>\n",
       "      <td>2.541196</td>\n",
       "      <td>2.520499</td>\n",
       "      <td>2.502069</td>\n",
       "      <td>2.923998</td>\n",
       "      <td>2.507411</td>\n",
       "      <td>2.407457</td>\n",
       "      <td>...</td>\n",
       "      <td>1.86063</td>\n",
       "      <td>1.659844</td>\n",
       "      <td>2.023482e+05</td>\n",
       "      <td>1.881078</td>\n",
       "      <td>1.821323</td>\n",
       "      <td>1.673485</td>\n",
       "      <td>1.844864</td>\n",
       "      <td>1.931746</td>\n",
       "      <td>1.853249</td>\n",
       "      <td>1.874895</td>\n",
       "    </tr>\n",
       "    <tr>\n",
       "      <th>min</th>\n",
       "      <td>1.000000</td>\n",
       "      <td>1.000000</td>\n",
       "      <td>1.000000</td>\n",
       "      <td>1.000000</td>\n",
       "      <td>1.000000</td>\n",
       "      <td>1.000000</td>\n",
       "      <td>1.000000</td>\n",
       "      <td>1.000000</td>\n",
       "      <td>1.000000</td>\n",
       "      <td>1.000000</td>\n",
       "      <td>...</td>\n",
       "      <td>1.00000</td>\n",
       "      <td>1.000000</td>\n",
       "      <td>0.000000e+00</td>\n",
       "      <td>1.000000</td>\n",
       "      <td>1.000000</td>\n",
       "      <td>1.000000</td>\n",
       "      <td>1.000000</td>\n",
       "      <td>1.000000</td>\n",
       "      <td>1.000000</td>\n",
       "      <td>1.000000</td>\n",
       "    </tr>\n",
       "    <tr>\n",
       "      <th>25%</th>\n",
       "      <td>25443.500000</td>\n",
       "      <td>4.000000</td>\n",
       "      <td>5.000000</td>\n",
       "      <td>4.000000</td>\n",
       "      <td>2.000000</td>\n",
       "      <td>2.000000</td>\n",
       "      <td>2.000000</td>\n",
       "      <td>3.000000</td>\n",
       "      <td>2.000000</td>\n",
       "      <td>6.000000</td>\n",
       "      <td>...</td>\n",
       "      <td>4.00000</td>\n",
       "      <td>4.000000</td>\n",
       "      <td>2.384400e+04</td>\n",
       "      <td>1.000000</td>\n",
       "      <td>2.000000</td>\n",
       "      <td>2.000000</td>\n",
       "      <td>2.000000</td>\n",
       "      <td>3.000000</td>\n",
       "      <td>4.000000</td>\n",
       "      <td>3.000000</td>\n",
       "    </tr>\n",
       "    <tr>\n",
       "      <th>50%</th>\n",
       "      <td>50823.000000</td>\n",
       "      <td>7.000000</td>\n",
       "      <td>7.000000</td>\n",
       "      <td>6.000000</td>\n",
       "      <td>4.000000</td>\n",
       "      <td>3.000000</td>\n",
       "      <td>4.000000</td>\n",
       "      <td>6.000000</td>\n",
       "      <td>4.000000</td>\n",
       "      <td>8.000000</td>\n",
       "      <td>...</td>\n",
       "      <td>5.00000</td>\n",
       "      <td>5.000000</td>\n",
       "      <td>5.507500e+04</td>\n",
       "      <td>2.000000</td>\n",
       "      <td>4.000000</td>\n",
       "      <td>3.000000</td>\n",
       "      <td>4.000000</td>\n",
       "      <td>5.000000</td>\n",
       "      <td>6.000000</td>\n",
       "      <td>5.000000</td>\n",
       "    </tr>\n",
       "    <tr>\n",
       "      <th>75%</th>\n",
       "      <td>76219.500000</td>\n",
       "      <td>9.000000</td>\n",
       "      <td>9.000000</td>\n",
       "      <td>8.000000</td>\n",
       "      <td>6.000000</td>\n",
       "      <td>6.000000</td>\n",
       "      <td>6.000000</td>\n",
       "      <td>8.000000</td>\n",
       "      <td>6.000000</td>\n",
       "      <td>10.000000</td>\n",
       "      <td>...</td>\n",
       "      <td>7.00000</td>\n",
       "      <td>6.000000</td>\n",
       "      <td>9.300000e+04</td>\n",
       "      <td>4.000000</td>\n",
       "      <td>5.000000</td>\n",
       "      <td>5.000000</td>\n",
       "      <td>5.000000</td>\n",
       "      <td>6.000000</td>\n",
       "      <td>7.000000</td>\n",
       "      <td>7.000000</td>\n",
       "    </tr>\n",
       "    <tr>\n",
       "      <th>max</th>\n",
       "      <td>101592.000000</td>\n",
       "      <td>10.000000</td>\n",
       "      <td>10.000000</td>\n",
       "      <td>10.000000</td>\n",
       "      <td>10.000000</td>\n",
       "      <td>10.000000</td>\n",
       "      <td>10.000000</td>\n",
       "      <td>10.000000</td>\n",
       "      <td>10.000000</td>\n",
       "      <td>10.000000</td>\n",
       "      <td>...</td>\n",
       "      <td>7.00000</td>\n",
       "      <td>7.000000</td>\n",
       "      <td>2.000000e+06</td>\n",
       "      <td>7.000000</td>\n",
       "      <td>7.000000</td>\n",
       "      <td>7.000000</td>\n",
       "      <td>7.000000</td>\n",
       "      <td>7.000000</td>\n",
       "      <td>7.000000</td>\n",
       "      <td>7.000000</td>\n",
       "    </tr>\n",
       "  </tbody>\n",
       "</table>\n",
       "<p>8 rows × 42 columns</p>\n",
       "</div>"
      ],
      "text/plain": [
       "          Respondent    AssessJob1    AssessJob2    AssessJob3    AssessJob4  \\\n",
       "count   98855.000000  66985.000000  66985.000000  66985.000000  66985.000000   \n",
       "mean    50822.971635      6.397089      6.673524      5.906875      4.065791   \n",
       "std     29321.650410      2.788428      2.531202      2.642734      2.541196   \n",
       "min         1.000000      1.000000      1.000000      1.000000      1.000000   \n",
       "25%     25443.500000      4.000000      5.000000      4.000000      2.000000   \n",
       "50%     50823.000000      7.000000      7.000000      6.000000      4.000000   \n",
       "75%     76219.500000      9.000000      9.000000      8.000000      6.000000   \n",
       "max    101592.000000     10.000000     10.000000     10.000000     10.000000   \n",
       "\n",
       "         AssessJob5    AssessJob6    AssessJob7    AssessJob8    AssessJob9  \\\n",
       "count  66985.000000  66985.000000  66985.000000  66985.000000  66985.000000   \n",
       "mean       3.953243      4.407196      5.673181      4.225200      7.640009   \n",
       "std        2.520499      2.502069      2.923998      2.507411      2.407457   \n",
       "min        1.000000      1.000000      1.000000      1.000000      1.000000   \n",
       "25%        2.000000      2.000000      3.000000      2.000000      6.000000   \n",
       "50%        3.000000      4.000000      6.000000      4.000000      8.000000   \n",
       "75%        6.000000      6.000000      8.000000      6.000000     10.000000   \n",
       "max       10.000000     10.000000     10.000000     10.000000     10.000000   \n",
       "\n",
       "       ...  JobEmailPriorities6  JobEmailPriorities7  ConvertedSalary  \\\n",
       "count  ...          46213.00000         46213.000000     4.770200e+04   \n",
       "mean   ...              4.97425             4.836388     9.578086e+04   \n",
       "std    ...              1.86063             1.659844     2.023482e+05   \n",
       "min    ...              1.00000             1.000000     0.000000e+00   \n",
       "25%    ...              4.00000             4.000000     2.384400e+04   \n",
       "50%    ...              5.00000             5.000000     5.507500e+04   \n",
       "75%    ...              7.00000             6.000000     9.300000e+04   \n",
       "max    ...              7.00000             7.000000     2.000000e+06   \n",
       "\n",
       "       AdsPriorities1  AdsPriorities2  AdsPriorities3  AdsPriorities4  \\\n",
       "count    60479.000000    60479.000000    60479.000000    60479.000000   \n",
       "mean         2.726880        3.805784        3.340945        3.782470   \n",
       "std          1.881078        1.821323        1.673485        1.844864   \n",
       "min          1.000000        1.000000        1.000000        1.000000   \n",
       "25%          1.000000        2.000000        2.000000        2.000000   \n",
       "50%          2.000000        4.000000        3.000000        4.000000   \n",
       "75%          4.000000        5.000000        5.000000        5.000000   \n",
       "max          7.000000        7.000000        7.000000        7.000000   \n",
       "\n",
       "       AdsPriorities5  AdsPriorities6  AdsPriorities7  \n",
       "count    60479.000000    60479.000000    60479.000000  \n",
       "mean         4.383604        5.138809        4.821459  \n",
       "std          1.931746        1.853249        1.874895  \n",
       "min          1.000000        1.000000        1.000000  \n",
       "25%          3.000000        4.000000        3.000000  \n",
       "50%          5.000000        6.000000        5.000000  \n",
       "75%          6.000000        7.000000        7.000000  \n",
       "max          7.000000        7.000000        7.000000  \n",
       "\n",
       "[8 rows x 42 columns]"
      ]
     },
     "metadata": {},
     "output_type": "display_data"
    }
   ],
   "source": [
    "display(df.describe())"
   ]
  },
  {
   "cell_type": "markdown",
   "metadata": {},
   "source": [
    "## Chosen Attributes\n",
    "\n",
    "Most of the Dataset attributes consisted in **answers to open question** which would have been hard to manage and also contained mixed-type data.\n",
    "\n",
    "Among the user's information the following attributes have been chosen:\n",
    "\n",
    "- **Hobby**: *True if the user considers Coding a Hobby.*\n",
    "- **OpenSource**: *True if the user considers itself an OpenSource supporter*\n",
    "- **Country**: *The user's Country of origin*\n",
    "- **Employment**: *The user's employement type (Full-Time Part-Time...)*\n",
    "- **Formal Education**: *The user's Formal Education (e.g., Bachelor, Master's Degree, etc.)*\n",
    "- **Undergrad Major**: *The user's major during it's Undergraduate studies*\n",
    "- **Job Satisfaction**: *A score between 1 and 7 representing the user's Jobs Satisfaction*\n",
    "- **Converted Salary**: *The user's Salary Converted in USD*"
   ]
  },
  {
   "cell_type": "code",
   "execution_count": 4,
   "metadata": {},
   "outputs": [
    {
     "data": {
      "text/html": [
       "<div>\n",
       "<style scoped>\n",
       "    .dataframe tbody tr th:only-of-type {\n",
       "        vertical-align: middle;\n",
       "    }\n",
       "\n",
       "    .dataframe tbody tr th {\n",
       "        vertical-align: top;\n",
       "    }\n",
       "\n",
       "    .dataframe thead th {\n",
       "        text-align: right;\n",
       "    }\n",
       "</style>\n",
       "<table border=\"1\" class=\"dataframe\">\n",
       "  <thead>\n",
       "    <tr style=\"text-align: right;\">\n",
       "      <th></th>\n",
       "      <th>Hobby</th>\n",
       "      <th>OpenSource</th>\n",
       "      <th>Country</th>\n",
       "      <th>Employment</th>\n",
       "      <th>Education</th>\n",
       "      <th>UndergradMajor</th>\n",
       "      <th>JobSatisfaction</th>\n",
       "      <th>Salary</th>\n",
       "    </tr>\n",
       "  </thead>\n",
       "  <tbody>\n",
       "    <tr>\n",
       "      <th>1</th>\n",
       "      <td>Yes</td>\n",
       "      <td>Yes</td>\n",
       "      <td>United Kingdom</td>\n",
       "      <td>Employed full-time</td>\n",
       "      <td>Bachelor’s degree (BA, BS, B.Eng., etc.)</td>\n",
       "      <td>A natural science (ex. biology, chemistry, phy...</td>\n",
       "      <td>Moderately dissatisfied</td>\n",
       "      <td>70841.0</td>\n",
       "    </tr>\n",
       "    <tr>\n",
       "      <th>4</th>\n",
       "      <td>Yes</td>\n",
       "      <td>No</td>\n",
       "      <td>South Africa</td>\n",
       "      <td>Employed full-time</td>\n",
       "      <td>Some college/university study without earning ...</td>\n",
       "      <td>Computer science, computer engineering, or sof...</td>\n",
       "      <td>Slightly satisfied</td>\n",
       "      <td>21426.0</td>\n",
       "    </tr>\n",
       "    <tr>\n",
       "      <th>5</th>\n",
       "      <td>Yes</td>\n",
       "      <td>No</td>\n",
       "      <td>United Kingdom</td>\n",
       "      <td>Employed full-time</td>\n",
       "      <td>Bachelor’s degree (BA, BS, B.Eng., etc.)</td>\n",
       "      <td>Computer science, computer engineering, or sof...</td>\n",
       "      <td>Moderately satisfied</td>\n",
       "      <td>41671.0</td>\n",
       "    </tr>\n",
       "    <tr>\n",
       "      <th>6</th>\n",
       "      <td>Yes</td>\n",
       "      <td>Yes</td>\n",
       "      <td>United States</td>\n",
       "      <td>Employed full-time</td>\n",
       "      <td>Some college/university study without earning ...</td>\n",
       "      <td>Computer science, computer engineering, or sof...</td>\n",
       "      <td>Slightly satisfied</td>\n",
       "      <td>120000.0</td>\n",
       "    </tr>\n",
       "    <tr>\n",
       "      <th>8</th>\n",
       "      <td>Yes</td>\n",
       "      <td>Yes</td>\n",
       "      <td>United States</td>\n",
       "      <td>Employed full-time</td>\n",
       "      <td>Some college/university study without earning ...</td>\n",
       "      <td>Fine arts or performing arts (ex. graphic desi...</td>\n",
       "      <td>Moderately satisfied</td>\n",
       "      <td>250000.0</td>\n",
       "    </tr>\n",
       "  </tbody>\n",
       "</table>\n",
       "</div>"
      ],
      "text/plain": [
       "  Hobby OpenSource         Country          Employment  \\\n",
       "1   Yes        Yes  United Kingdom  Employed full-time   \n",
       "4   Yes         No    South Africa  Employed full-time   \n",
       "5   Yes         No  United Kingdom  Employed full-time   \n",
       "6   Yes        Yes   United States  Employed full-time   \n",
       "8   Yes        Yes   United States  Employed full-time   \n",
       "\n",
       "                                           Education  \\\n",
       "1           Bachelor’s degree (BA, BS, B.Eng., etc.)   \n",
       "4  Some college/university study without earning ...   \n",
       "5           Bachelor’s degree (BA, BS, B.Eng., etc.)   \n",
       "6  Some college/university study without earning ...   \n",
       "8  Some college/university study without earning ...   \n",
       "\n",
       "                                      UndergradMajor          JobSatisfaction  \\\n",
       "1  A natural science (ex. biology, chemistry, phy...  Moderately dissatisfied   \n",
       "4  Computer science, computer engineering, or sof...       Slightly satisfied   \n",
       "5  Computer science, computer engineering, or sof...     Moderately satisfied   \n",
       "6  Computer science, computer engineering, or sof...       Slightly satisfied   \n",
       "8  Fine arts or performing arts (ex. graphic desi...     Moderately satisfied   \n",
       "\n",
       "     Salary  \n",
       "1   70841.0  \n",
       "4   21426.0  \n",
       "5   41671.0  \n",
       "6  120000.0  \n",
       "8  250000.0  "
      ]
     },
     "execution_count": 4,
     "metadata": {},
     "output_type": "execute_result"
    }
   ],
   "source": [
    "columns=['Hobby','OpenSource','Country','Employment',\\\n",
    "    'FormalEducation','UndergradMajor','JobSatisfaction','ConvertedSalary']\n",
    "\n",
    "data=df.get(columns).dropna()\n",
    "\n",
    "\n",
    "data = data.rename(columns={'FormalEducation':'Education', 'ConvertedSalary':'Salary'})\n",
    "data.head()"
   ]
  },
  {
   "cell_type": "markdown",
   "metadata": {},
   "source": [
    "The ***JobSatisfaction*** values have been remapped into an integer scale."
   ]
  },
  {
   "cell_type": "code",
   "execution_count": 5,
   "metadata": {},
   "outputs": [],
   "source": [
    "js_dict = {\n",
    "    'Extremely dissatisfied':0,\n",
    "    'Moderately dissatisfied':1,\n",
    "    'Slightly dissatisfied':2,\n",
    "    'Neither satisfied nor dissatisfied':3,\n",
    "    'Slightly satisfied':4,\n",
    "    'Moderately satisfied':5,\n",
    "    'Extremely satisfied':6,\n",
    "}\n",
    "\n",
    "data['JobSatisfaction']=data['JobSatisfaction'].map(js_dict)"
   ]
  },
  {
   "cell_type": "markdown",
   "metadata": {},
   "source": [
    "The Dataset has been pruned from entries which had a Formal Education different from a *Bachelor's Degree, a Master's Degree or a Ph.D* to **reduce the complexity** of the Model."
   ]
  },
  {
   "cell_type": "code",
   "execution_count": 6,
   "metadata": {},
   "outputs": [],
   "source": [
    "data = data.replace('Bachelor’s degree (BA, BS, B.Eng., etc.)',\"Bachelor\")\n",
    "data = data.replace('Master’s degree (MA, MS, M.Eng., MBA, etc.)',\"Master\")\n",
    "data = data.replace('Other doctoral degree (Ph.D, Ed.D., etc.)',\"Ph.D\")\n",
    "data = data[data['Education'].isin(['Bachelor','Master','Ph.D'])]"
   ]
  },
  {
   "cell_type": "markdown",
   "metadata": {},
   "source": [
    "We considered data concearning only the **three most represented countries** in the Dataset."
   ]
  },
  {
   "cell_type": "code",
   "execution_count": 7,
   "metadata": {},
   "outputs": [],
   "source": [
    "countries=data.groupby('Country').size().sort_values()[-3:].index.tolist()\n",
    "data = data[data['Country'].isin(countries)]"
   ]
  },
  {
   "cell_type": "markdown",
   "metadata": {},
   "source": [
    "The ***Converted Salary*** attribute has been discretized into three ranges to reduce the Dataset Complexity and to Work on **Categorical Values**."
   ]
  },
  {
   "cell_type": "code",
   "execution_count": 8,
   "metadata": {},
   "outputs": [
    {
     "data": {
      "text/plain": [
       "<AxesSubplot:>"
      ]
     },
     "execution_count": 8,
     "metadata": {},
     "output_type": "execute_result"
    },
    {
     "data": {
      "image/png": "[encoded data removed]",
      "text/plain": [
       "<Figure size 720x576 with 1 Axes>"
      ]
     },
     "metadata": {
      "needs_background": "light"
     },
     "output_type": "display_data"
    }
   ],
   "source": [
    "plt.figure(figsize=(10,8))\n",
    "data.Salary=data.Salary.map(lambda x: '0-250.000' if x<=250000 else '250.000-1.000.000' if x<=1000000 else '1.000.000+')\n",
    "data.Salary.hist()\n"
   ]
  },
  {
   "cell_type": "markdown",
   "metadata": {},
   "source": [
    "The ***Undergrad Major*** Attribute has been Binarized into \"STEM\" and \"NON STEM\" majors."
   ]
  },
  {
   "cell_type": "code",
   "execution_count": 9,
   "metadata": {},
   "outputs": [],
   "source": [
    "stem=['A natural science (ex. biology, chemistry, physics)',\n",
    " 'Computer science, computer engineering, or software engineering',\n",
    " 'Web development or web design',\n",
    " 'Another engineering discipline (ex. civil, electrical, mechanical)',\n",
    " 'Mathematics or statistics',\n",
    " 'Information systems, information technology, or system administration',\n",
    "]\n",
    "\n",
    "not_stem=[ 'A social science (ex. anthropology, psychology, political science)',\n",
    " 'A humanities discipline (ex. literature, history, philosophy)',\n",
    " 'A business discipline (ex. accounting, finance, marketing)',\n",
    " 'Fine arts or performing arts (ex. graphic design, music, studio art)',\n",
    " 'A health science (ex. nursing, pharmacy, radiology)',\n",
    "]\n",
    "\n",
    "data=data[data['UndergradMajor'].isin(stem+not_stem)]\n",
    "data.UndergradMajor=data.UndergradMajor.map(lambda x: 'STEM' if x in stem else 'NOT_STEM')"
   ]
  },
  {
   "cell_type": "markdown",
   "metadata": {},
   "source": [
    "### Content of the Dataset after applying pre-processing:"
   ]
  },
  {
   "cell_type": "code",
   "execution_count": 10,
   "metadata": {},
   "outputs": [
    {
     "data": {
      "text/html": [
       "<div>\n",
       "<style scoped>\n",
       "    .dataframe tbody tr th:only-of-type {\n",
       "        vertical-align: middle;\n",
       "    }\n",
       "\n",
       "    .dataframe tbody tr th {\n",
       "        vertical-align: top;\n",
       "    }\n",
       "\n",
       "    .dataframe thead th {\n",
       "        text-align: right;\n",
       "    }\n",
       "</style>\n",
       "<table border=\"1\" class=\"dataframe\">\n",
       "  <thead>\n",
       "    <tr style=\"text-align: right;\">\n",
       "      <th></th>\n",
       "      <th>Hobby</th>\n",
       "      <th>OpenSource</th>\n",
       "      <th>Country</th>\n",
       "      <th>Employment</th>\n",
       "      <th>Education</th>\n",
       "      <th>UndergradMajor</th>\n",
       "      <th>JobSatisfaction</th>\n",
       "      <th>Salary</th>\n",
       "    </tr>\n",
       "  </thead>\n",
       "  <tbody>\n",
       "    <tr>\n",
       "      <th>1</th>\n",
       "      <td>Yes</td>\n",
       "      <td>Yes</td>\n",
       "      <td>United Kingdom</td>\n",
       "      <td>Employed full-time</td>\n",
       "      <td>Bachelor</td>\n",
       "      <td>STEM</td>\n",
       "      <td>1</td>\n",
       "      <td>0-250.000</td>\n",
       "    </tr>\n",
       "    <tr>\n",
       "      <th>5</th>\n",
       "      <td>Yes</td>\n",
       "      <td>No</td>\n",
       "      <td>United Kingdom</td>\n",
       "      <td>Employed full-time</td>\n",
       "      <td>Bachelor</td>\n",
       "      <td>STEM</td>\n",
       "      <td>5</td>\n",
       "      <td>0-250.000</td>\n",
       "    </tr>\n",
       "    <tr>\n",
       "      <th>22</th>\n",
       "      <td>No</td>\n",
       "      <td>No</td>\n",
       "      <td>United Kingdom</td>\n",
       "      <td>Employed full-time</td>\n",
       "      <td>Bachelor</td>\n",
       "      <td>STEM</td>\n",
       "      <td>4</td>\n",
       "      <td>0-250.000</td>\n",
       "    </tr>\n",
       "    <tr>\n",
       "      <th>24</th>\n",
       "      <td>Yes</td>\n",
       "      <td>No</td>\n",
       "      <td>India</td>\n",
       "      <td>Employed full-time</td>\n",
       "      <td>Master</td>\n",
       "      <td>STEM</td>\n",
       "      <td>5</td>\n",
       "      <td>0-250.000</td>\n",
       "    </tr>\n",
       "    <tr>\n",
       "      <th>27</th>\n",
       "      <td>No</td>\n",
       "      <td>No</td>\n",
       "      <td>United States</td>\n",
       "      <td>Employed full-time</td>\n",
       "      <td>Bachelor</td>\n",
       "      <td>NOT_STEM</td>\n",
       "      <td>5</td>\n",
       "      <td>250.000-1.000.000</td>\n",
       "    </tr>\n",
       "  </tbody>\n",
       "</table>\n",
       "</div>"
      ],
      "text/plain": [
       "   Hobby OpenSource         Country          Employment Education  \\\n",
       "1    Yes        Yes  United Kingdom  Employed full-time  Bachelor   \n",
       "5    Yes         No  United Kingdom  Employed full-time  Bachelor   \n",
       "22    No         No  United Kingdom  Employed full-time  Bachelor   \n",
       "24   Yes         No           India  Employed full-time    Master   \n",
       "27    No         No   United States  Employed full-time  Bachelor   \n",
       "\n",
       "   UndergradMajor  JobSatisfaction             Salary  \n",
       "1            STEM                1          0-250.000  \n",
       "5            STEM                5          0-250.000  \n",
       "22           STEM                4          0-250.000  \n",
       "24           STEM                5          0-250.000  \n",
       "27       NOT_STEM                5  250.000-1.000.000  "
      ]
     },
     "metadata": {},
     "output_type": "display_data"
    }
   ],
   "source": [
    "display(data.head())"
   ]
  },
  {
   "cell_type": "code",
   "execution_count": 11,
   "metadata": {},
   "outputs": [
    {
     "name": "stdout",
     "output_type": "stream",
     "text": [
      "Hobby : ['Yes' 'No']\n",
      "OpenSource : ['Yes' 'No']\n",
      "Country : ['United Kingdom' 'India' 'United States']\n",
      "Employment : ['Employed full-time' 'Employed part-time'\n",
      " 'Independent contractor, freelancer, or self-employed']\n",
      "Education : ['Bachelor' 'Master' 'Ph.D']\n",
      "UndergradMajor : ['STEM' 'NOT_STEM']\n",
      "JobSatisfaction : [1 5 4 0 6 2 3]\n",
      "Salary : ['0-250.000' '250.000-1.000.000' '1.000.000+']\n"
     ]
    }
   ],
   "source": [
    "for col in data.columns:\n",
    "    \n",
    "    print(col, \":\", data[col].unique())"
   ]
  },
  {
   "cell_type": "markdown",
   "metadata": {},
   "source": [
    "## Bayesian Network Creation"
   ]
  },
  {
   "cell_type": "markdown",
   "metadata": {},
   "source": [
    "We decided to test the Dataset Attribute independence through a $Chi^2 Test$ since we are working with Categorical Values.\n",
    "\n",
    "Each attribute's indipendence has been tested with all the others and a Contingency matrix has been Created. "
   ]
  },
  {
   "cell_type": "markdown",
   "metadata": {},
   "source": [
    "*Function that computes Tests on all the Dataset Attributes independences and creates a Contingency matrix*:\n",
    "\n",
    "- For Readability We decided to set all the the test outpus to 1 if their p values are greater or equal to $\\alpha$."
   ]
  },
  {
   "cell_type": "markdown",
   "metadata": {},
   "source": [
    "### Chi-Square Test:\n",
    "\n",
    "The Chi-square test of independence is a statistical hypothesis test used to determine whether two categorical or nominal variables are likely to be related or not.\n",
    "\n",
    "A test of independence assesses whether observations consisting of measures on two variables, expressed in a contingency table, are independent of each other.\n",
    "\n",
    "The test Consists in the following steps:\n",
    "\n",
    "1. Defining an Hypothesis:\n",
    "     - `Null Hypothesis (H0)`: Two variables are independent.\n",
    "     - `Alternate Hypothesis (H1)`: Two variables are not independent.\n",
    "2. Calculating a **Contingency Table** for both Attributes tested:\n",
    "     - Table showing the distribution of one variable in rows and another in columns.\n",
    "3. Find the Expected Value\n",
    "     - $A$ and $B$ are independent iff $P(A \\cap B)=P(A)* P(B)$\n",
    "4. Calculate the $p-value$:\n",
    "     - $\\chi^2=\\Sigma\\frac{(O_i-E_i)^2}{E_i}$\n",
    "     - Where:\n",
    "       - $E_i$ is the expected value computed in the previous step.\n",
    "       - $O_i$ is the number of observations of type $i$\n",
    "5. Accept or Reject The Hypothesis:\n",
    "     - Decide $\\alpha$ = Significance level of the Test\n",
    "     - if: $p-value>\\alpha$ `H0` is accepted.\n",
    "     - Otherwise: `H1` is accepted\n"
   ]
  },
  {
   "cell_type": "code",
   "execution_count": 12,
   "metadata": {},
   "outputs": [],
   "source": [
    "def chi2_contingency_mat(data,alpha=None):\n",
    "    s=data.columns.size\n",
    "    a = 0\n",
    "    b = 0\n",
    "    mat=np.zeros((s,s))\n",
    "    for i in data.columns:\n",
    "        for j in data.columns:\n",
    "            contigency_pct = pd.crosstab(data[i], data[j])\n",
    "            c, p, dof, expected = chi2_contingency(contigency_pct)\n",
    "            mat[a][b]=p\n",
    "            b=b+1\n",
    "        a = a+1\n",
    "        b=0\n",
    "    if alpha:\n",
    "        mat[mat>=alpha]=1\n",
    "        mat[mat<alpha]=0\n",
    "    return mat\n"
   ]
  },
  {
   "cell_type": "markdown",
   "metadata": {},
   "source": [
    "$Chi^2$ Contingency matrix plot:\n",
    "\n",
    "- $\\alpha$ has been set to $5\\times e^{-7}$ to take in consideration only **Highly Dependent** attributes and take less risk in misjudging the results."
   ]
  },
  {
   "cell_type": "code",
   "execution_count": 13,
   "metadata": {},
   "outputs": [
    {
     "data": {
      "text/plain": [
       "<AxesSubplot:>"
      ]
     },
     "execution_count": 13,
     "metadata": {},
     "output_type": "execute_result"
    },
    {
     "data": {
      "image/png": "[encoded data removed]",
      "text/plain": [
       "<Figure size 720x576 with 2 Axes>"
      ]
     },
     "metadata": {
      "needs_background": "light"
     },
     "output_type": "display_data"
    }
   ],
   "source": [
    "chi2Mat=chi2_contingency_mat(data,5e-7)\n",
    "labels = list(data.columns)\n",
    "plt.figure(figsize=(10,8))\n",
    "sns.heatmap(chi2Mat,annot=True, xticklabels=labels, yticklabels=labels,cmap=\"YlGnBu\")"
   ]
  },
  {
   "cell_type": "markdown",
   "metadata": {},
   "source": [
    "As we can see the *Employment* column could make the **BN** too complicated and also doesn't really seem signicative enough, so we decided to drop it and recompute the Contingency matrix."
   ]
  },
  {
   "cell_type": "code",
   "execution_count": 14,
   "metadata": {},
   "outputs": [
    {
     "data": {
      "text/plain": [
       "<AxesSubplot:>"
      ]
     },
     "execution_count": 14,
     "metadata": {},
     "output_type": "execute_result"
    },
    {
     "data": {
      "image/png": "[encoded data removed]",
      "text/plain": [
       "<Figure size 720x576 with 2 Axes>"
      ]
     },
     "metadata": {
      "needs_background": "light"
     },
     "output_type": "display_data"
    }
   ],
   "source": [
    "data = data.drop('Employment', axis=1)\n",
    "chi2Mat=chi2_contingency_mat(data,5e-3)\n",
    "labels = list(data.columns)\n",
    "plt.figure(figsize=(10,8))\n",
    "sns.heatmap(chi2Mat,annot=True, xticklabels=labels, yticklabels=labels,cmap=\"YlGnBu\")"
   ]
  },
  {
   "cell_type": "markdown",
   "metadata": {},
   "source": [
    "## GRAPH PLOTTING"
   ]
  },
  {
   "cell_type": "markdown",
   "metadata": {},
   "source": [
    "- Function used to Compute a Graph Table starting from a computed $\\chi^2$ matrix."
   ]
  },
  {
   "cell_type": "code",
   "execution_count": 15,
   "metadata": {},
   "outputs": [],
   "source": [
    "def compute_graph_table(data, chi2Mat):\n",
    "\n",
    "    graph_table = pd.DataFrame()\n",
    "\n",
    "\n",
    "    source = []\n",
    "    target=[]\n",
    "\n",
    "    a=1\n",
    "    for i in range(data.columns.size):\n",
    "        for j in range(a, data.columns.size):\n",
    "            if chi2Mat[i][j]==0:\n",
    "                source.append(data.columns[i])\n",
    "                target.append(data.columns[j])\n",
    "        a=a+1\n",
    "\n",
    "    type=['Unidirected' for i in range(len(source))]\n",
    "    weight=[None for i in range(len(source))]\n",
    "    graph_table['Source']=source\n",
    "    graph_table['Target']=target\n",
    "    graph_table['Type']=type\n",
    "    graph_table['weight']=weight\n",
    "    return graph_table\n"
   ]
  },
  {
   "cell_type": "markdown",
   "metadata": {},
   "source": [
    "Computed Graph Table:"
   ]
  },
  {
   "cell_type": "code",
   "execution_count": 16,
   "metadata": {},
   "outputs": [
    {
     "data": {
      "text/html": [
       "<div>\n",
       "<style scoped>\n",
       "    .dataframe tbody tr th:only-of-type {\n",
       "        vertical-align: middle;\n",
       "    }\n",
       "\n",
       "    .dataframe tbody tr th {\n",
       "        vertical-align: top;\n",
       "    }\n",
       "\n",
       "    .dataframe thead th {\n",
       "        text-align: right;\n",
       "    }\n",
       "</style>\n",
       "<table border=\"1\" class=\"dataframe\">\n",
       "  <thead>\n",
       "    <tr style=\"text-align: right;\">\n",
       "      <th></th>\n",
       "      <th>Source</th>\n",
       "      <th>Target</th>\n",
       "      <th>Type</th>\n",
       "      <th>weight</th>\n",
       "    </tr>\n",
       "  </thead>\n",
       "  <tbody>\n",
       "    <tr>\n",
       "      <th>0</th>\n",
       "      <td>Hobby</td>\n",
       "      <td>OpenSource</td>\n",
       "      <td>Unidirected</td>\n",
       "      <td>None</td>\n",
       "    </tr>\n",
       "    <tr>\n",
       "      <th>1</th>\n",
       "      <td>OpenSource</td>\n",
       "      <td>Country</td>\n",
       "      <td>Unidirected</td>\n",
       "      <td>None</td>\n",
       "    </tr>\n",
       "    <tr>\n",
       "      <th>2</th>\n",
       "      <td>OpenSource</td>\n",
       "      <td>Education</td>\n",
       "      <td>Unidirected</td>\n",
       "      <td>None</td>\n",
       "    </tr>\n",
       "    <tr>\n",
       "      <th>3</th>\n",
       "      <td>OpenSource</td>\n",
       "      <td>JobSatisfaction</td>\n",
       "      <td>Unidirected</td>\n",
       "      <td>None</td>\n",
       "    </tr>\n",
       "    <tr>\n",
       "      <th>4</th>\n",
       "      <td>Country</td>\n",
       "      <td>Education</td>\n",
       "      <td>Unidirected</td>\n",
       "      <td>None</td>\n",
       "    </tr>\n",
       "    <tr>\n",
       "      <th>5</th>\n",
       "      <td>Country</td>\n",
       "      <td>UndergradMajor</td>\n",
       "      <td>Unidirected</td>\n",
       "      <td>None</td>\n",
       "    </tr>\n",
       "    <tr>\n",
       "      <th>6</th>\n",
       "      <td>Country</td>\n",
       "      <td>JobSatisfaction</td>\n",
       "      <td>Unidirected</td>\n",
       "      <td>None</td>\n",
       "    </tr>\n",
       "    <tr>\n",
       "      <th>7</th>\n",
       "      <td>Country</td>\n",
       "      <td>Salary</td>\n",
       "      <td>Unidirected</td>\n",
       "      <td>None</td>\n",
       "    </tr>\n",
       "    <tr>\n",
       "      <th>8</th>\n",
       "      <td>Education</td>\n",
       "      <td>JobSatisfaction</td>\n",
       "      <td>Unidirected</td>\n",
       "      <td>None</td>\n",
       "    </tr>\n",
       "    <tr>\n",
       "      <th>9</th>\n",
       "      <td>Education</td>\n",
       "      <td>Salary</td>\n",
       "      <td>Unidirected</td>\n",
       "      <td>None</td>\n",
       "    </tr>\n",
       "    <tr>\n",
       "      <th>10</th>\n",
       "      <td>UndergradMajor</td>\n",
       "      <td>JobSatisfaction</td>\n",
       "      <td>Unidirected</td>\n",
       "      <td>None</td>\n",
       "    </tr>\n",
       "  </tbody>\n",
       "</table>\n",
       "</div>"
      ],
      "text/plain": [
       "            Source           Target         Type weight\n",
       "0            Hobby       OpenSource  Unidirected   None\n",
       "1       OpenSource          Country  Unidirected   None\n",
       "2       OpenSource        Education  Unidirected   None\n",
       "3       OpenSource  JobSatisfaction  Unidirected   None\n",
       "4          Country        Education  Unidirected   None\n",
       "5          Country   UndergradMajor  Unidirected   None\n",
       "6          Country  JobSatisfaction  Unidirected   None\n",
       "7          Country           Salary  Unidirected   None\n",
       "8        Education  JobSatisfaction  Unidirected   None\n",
       "9        Education           Salary  Unidirected   None\n",
       "10  UndergradMajor  JobSatisfaction  Unidirected   None"
      ]
     },
     "execution_count": 16,
     "metadata": {},
     "output_type": "execute_result"
    }
   ],
   "source": [
    "graph_table = compute_graph_table(data, chi2Mat)\n",
    "graph_table"
   ]
  },
  {
   "cell_type": "code",
   "execution_count": 17,
   "metadata": {},
   "outputs": [
    {
     "data": {
      "image/png": "[encoded data removed]",
      "text/plain": [
       "<Figure size 720x576 with 1 Axes>"
      ]
     },
     "metadata": {},
     "output_type": "display_data"
    }
   ],
   "source": [
    "import networkx as nx\n",
    "\n",
    "G = nx.from_pandas_edgelist(graph_table, source='Source', target='Target',create_using=nx.DiGraph())\n",
    "pos={'Hobby':(0.5,10),\n",
    "     'JobSatisfaction':(2,7),\n",
    "     'OpenSource':(0.5,7),\n",
    "     'Education':(0.5,3),\n",
    "     'Country':(2,3),\n",
    "     'Salary':(1.25,1),\n",
    "     'UndergradMajor':(3,5)\n",
    " }\n",
    "plt.figure(figsize=(10,8))\n",
    "\n",
    "nx.draw(G, arrows=True, with_labels=True, node_size=7000, arrowsize=20, pos=pos, font_size=10, font_color='white')\n",
    "# print(G.edges())"
   ]
  },
  {
   "cell_type": "markdown",
   "metadata": {},
   "source": [
    "## Markov Blanket Plotting"
   ]
  },
  {
   "cell_type": "markdown",
   "metadata": {},
   "source": [
    "- Function to compute a Markov Blanked given a Graph and a Node.\n",
    "- Function that Plots the Markov Blanket of a Node:\n",
    "  - **Red**: Node We are Interested in.\n",
    "  - **Green**: Markov Blanket Set of Nodes.\n",
    "  - **Blue**: Set of nodes which are not part of the Markov Blanket.  "
   ]
  },
  {
   "cell_type": "code",
   "execution_count": 18,
   "metadata": {},
   "outputs": [],
   "source": [
    "#Function to extract the Markov Blanket of a Node from the Graph\n",
    "def get_mb(graph, node):\n",
    "    mb = set()\n",
    "    parents = [i for i in graph.predecessors(node)]\n",
    "    mb.update(parents)\n",
    "    sons = [i for i in graph.successors(node)]\n",
    "    mb.update(sons)\n",
    "    sons_parents=[]\n",
    "    for s in sons:\n",
    "        sons_parents.extend([i for i in graph.predecessors(s) if i != node])\n",
    "\n",
    "    mb.update(sons_parents)\n",
    "    return mb\n",
    "\n",
    "#Markov Blanket Plotting Function\n",
    "def plot_mb(G, mb, node):\n",
    "    pos={'Hobby':(0.5,10),\n",
    "     'JobSatisfaction':(2,7),\n",
    "     'OpenSource':(0.5,7),\n",
    "     'Education':(0.5,3),\n",
    "     'Country':(2,3),\n",
    "     'Salary':(1.25,1),\n",
    "     'UndergradMajor':(3,5)\n",
    "    }\n",
    "    plt.figure(figsize=(10,8))\n",
    "    color_map=[]\n",
    "    for n in G:\n",
    "        if n in mb:\n",
    "            color_map.append('green')\n",
    "        elif n == node:\n",
    "            color_map.append('red')\n",
    "        else: \n",
    "            color_map.append('blue') \n",
    "    nx.draw(G, arrows=True,node_color=color_map, with_labels=True, node_size=7000, arrowsize=20, pos=pos, font_size=10, font_color='white')"
   ]
  },
  {
   "cell_type": "markdown",
   "metadata": {},
   "source": [
    "*Markov Blanket of the OpenSource Node*"
   ]
  },
  {
   "cell_type": "code",
   "execution_count": 19,
   "metadata": {},
   "outputs": [
    {
     "data": {
      "image/png": "[encoded data removed]",
      "text/plain": [
       "<Figure size 720x576 with 1 Axes>"
      ]
     },
     "metadata": {},
     "output_type": "display_data"
    }
   ],
   "source": [
    "mb=get_mb(G, 'OpenSource')\n",
    "plot_mb(G, mb, 'OpenSource')\n",
    "\n",
    "plt.show()"
   ]
  },
  {
   "cell_type": "markdown",
   "metadata": {},
   "source": [
    "## Bayesian Network Model (PGMPY library)"
   ]
  },
  {
   "cell_type": "markdown",
   "metadata": {},
   "source": [
    "This function computes the Graph Edges using the Upper triangular part of the $\\chi^2$ matrix as an adjacency Table."
   ]
  },
  {
   "cell_type": "code",
   "execution_count": 20,
   "metadata": {},
   "outputs": [],
   "source": [
    "def getEdges(mat,names=[]):\n",
    "    result=[]\n",
    "    l,_=mat.shape\n",
    "    for i in range(l): \n",
    "        for j in range(i+1,l):\n",
    "            if mat[i,j]==0:\n",
    "                if len(names)>0:\n",
    "                    result.append((names[i],names[j]))\n",
    "                else: result.append((i,j))\n",
    "    return result    "
   ]
  },
  {
   "cell_type": "markdown",
   "metadata": {},
   "source": [
    "### Maximum likelihood\n",
    "Model Creation using a **Maximum Likelihood Estimator** to compute the Probability Tables.\n",
    "\n",
    "- **Maximum likelihood estimation (MLE)** is a method of estimating the parameters of an assumed probability distribution, given some observed data. \n",
    " \n",
    "- This is achieved by maximizing a likelihood function so that, under the assumed statistical model, the observed data is most probable.\n",
    "\n",
    "Given the **Likelihood** of a function:\n",
    "\n",
    "$L_n(\\theta)=L_n(\\theta; y) = f_n(y;\\theta) $\n",
    "\n",
    "where $y$ = $ \\{ y_1, y_2,...\\} $ is a set of random variables.\n",
    "\n",
    "**MLE** aims at maximizing $\\hat{\\theta}$ using the following formula:\n",
    "\n",
    "$\\hat{\\theta} = arg_{\\theta \\in \\Theta} max \\hat{L_n}(\\theta;y)$\n",
    "\n"
   ]
  },
  {
   "cell_type": "code",
   "execution_count": 21,
   "metadata": {},
   "outputs": [
    {
     "name": "stdout",
     "output_type": "stream",
     "text": [
      "+------------+----------+\n",
      "| Hobby(No)  | 0.199923 |\n",
      "+------------+----------+\n",
      "| Hobby(Yes) | 0.800077 |\n",
      "+------------+----------+\n",
      "+-----------------+--------------------+---------------------+\n",
      "| Hobby           | Hobby(No)          | Hobby(Yes)          |\n",
      "+-----------------+--------------------+---------------------+\n",
      "| OpenSource(No)  | 0.7966101694915254 | 0.49800223749400674 |\n",
      "+-----------------+--------------------+---------------------+\n",
      "| OpenSource(Yes) | 0.2033898305084746 | 0.5019977625059933  |\n",
      "+-----------------+--------------------+---------------------+\n",
      "+-------------------------+---------------------+---------------------+\n",
      "| OpenSource              | OpenSource(No)      | OpenSource(Yes)     |\n",
      "+-------------------------+---------------------+---------------------+\n",
      "| Country(India)          | 0.20440215522182736 | 0.24486845909222318 |\n",
      "+-------------------------+---------------------+---------------------+\n",
      "| Country(United Kingdom) | 0.17872291642783447 | 0.16536571263370917 |\n",
      "+-------------------------+---------------------+---------------------+\n",
      "| Country(United States)  | 0.6168749283503382  | 0.5897658282740676  |\n",
      "+-------------------------+---------------------+---------------------+\n",
      "+---------------------+-----+------------------------+\n",
      "| Country             | ... | Country(United States) |\n",
      "+---------------------+-----+------------------------+\n",
      "| OpenSource          | ... | OpenSource(Yes)        |\n",
      "+---------------------+-----+------------------------+\n",
      "| Education(Bachelor) | ... | 0.7134803921568628     |\n",
      "+---------------------+-----+------------------------+\n",
      "| Education(Master)   | ... | 0.24215686274509804    |\n",
      "+---------------------+-----+------------------------+\n",
      "| Education(Ph.D)     | ... | 0.04436274509803922    |\n",
      "+---------------------+-----+------------------------+\n",
      "+--------------------+-----+------------------------+\n",
      "| Country            | ... | Country(United States) |\n",
      "+--------------------+-----+------------------------+\n",
      "| Education          | ... | Education(Ph.D)        |\n",
      "+--------------------+-----+------------------------+\n",
      "| OpenSource         | ... | OpenSource(Yes)        |\n",
      "+--------------------+-----+------------------------+\n",
      "| UndergradMajor     | ... | UndergradMajor(STEM)   |\n",
      "+--------------------+-----+------------------------+\n",
      "| JobSatisfaction(0) | ... | 0.05806451612903226    |\n",
      "+--------------------+-----+------------------------+\n",
      "| JobSatisfaction(1) | ... | 0.05806451612903226    |\n",
      "+--------------------+-----+------------------------+\n",
      "| JobSatisfaction(2) | ... | 0.08387096774193549    |\n",
      "+--------------------+-----+------------------------+\n",
      "| JobSatisfaction(3) | ... | 0.025806451612903226   |\n",
      "+--------------------+-----+------------------------+\n",
      "| JobSatisfaction(4) | ... | 0.08387096774193549    |\n",
      "+--------------------+-----+------------------------+\n",
      "| JobSatisfaction(5) | ... | 0.3741935483870968     |\n",
      "+--------------------+-----+------------------------+\n",
      "| JobSatisfaction(6) | ... | 0.3161290322580645     |\n",
      "+--------------------+-----+------------------------+\n",
      "+--------------------------+-----+------------------------+\n",
      "| Country                  | ... | Country(United States) |\n",
      "+--------------------------+-----+------------------------+\n",
      "| UndergradMajor(NOT_STEM) | ... | 0.15759433463693057    |\n",
      "+--------------------------+-----+------------------------+\n",
      "| UndergradMajor(STEM)     | ... | 0.8424056653630695     |\n",
      "+--------------------------+-----+------------------------+\n",
      "+---------------------------+-----+------------------------+\n",
      "| Country                   | ... | Country(United States) |\n",
      "+---------------------------+-----+------------------------+\n",
      "| Education                 | ... | Education(Ph.D)        |\n",
      "+---------------------------+-----+------------------------+\n",
      "| Salary(0-250.000)         | ... | 0.9244712990936556     |\n",
      "+---------------------------+-----+------------------------+\n",
      "| Salary(1.000.000+)        | ... | 0.027190332326283987   |\n",
      "+---------------------------+-----+------------------------+\n",
      "| Salary(250.000-1.000.000) | ... | 0.04833836858006042    |\n",
      "+---------------------------+-----+------------------------+\n"
     ]
    }
   ],
   "source": [
    "from pgmpy.models import BayesianNetwork\n",
    "from pgmpy.estimators import MaximumLikelihoodEstimator\n",
    "\n",
    "edges=getEdges(chi2Mat,names=data.columns)\n",
    "model= BayesianNetwork(edges)\n",
    "model.fit(data, estimator=MaximumLikelihoodEstimator)\n",
    "for cpd in model.get_cpds():\n",
    "    print(cpd)\n"
   ]
  },
  {
   "cell_type": "code",
   "execution_count": 22,
   "metadata": {},
   "outputs": [
    {
     "data": {
      "text/plain": [
       "(JobSatisfaction ⟂ Hobby | OpenSource)\n",
       "(JobSatisfaction ⟂ Hobby | Country, OpenSource)\n",
       "(JobSatisfaction ⟂ Salary | Education, Country)\n",
       "(JobSatisfaction ⟂ Hobby | OpenSource, Salary)\n",
       "(JobSatisfaction ⟂ Hobby | Education, OpenSource)\n",
       "(JobSatisfaction ⟂ Hobby | OpenSource, UndergradMajor)\n",
       "(JobSatisfaction ⟂ Hobby | Country, OpenSource, Salary)\n",
       "(JobSatisfaction ⟂ Hobby, Salary | Education, Country, OpenSource)\n",
       "(JobSatisfaction ⟂ Hobby | Country, OpenSource, UndergradMajor)\n",
       "(JobSatisfaction ⟂ Salary | Education, Hobby, Country)\n",
       "(JobSatisfaction ⟂ Salary | Education, Country, UndergradMajor)\n",
       "(JobSatisfaction ⟂ Hobby | Education, OpenSource, Salary)\n",
       "(JobSatisfaction ⟂ Hobby | OpenSource, UndergradMajor, Salary)\n",
       "(JobSatisfaction ⟂ Hobby | Education, OpenSource, UndergradMajor)\n",
       "(JobSatisfaction ⟂ Hobby | Education, Country, OpenSource, Salary)\n",
       "(JobSatisfaction ⟂ Hobby | Country, OpenSource, UndergradMajor, Salary)\n",
       "(JobSatisfaction ⟂ Salary | Education, Hobby, Country, OpenSource)\n",
       "(JobSatisfaction ⟂ Hobby, Salary | Education, Country, OpenSource, UndergradMajor)\n",
       "(JobSatisfaction ⟂ Salary | Education, Hobby, Country, UndergradMajor)\n",
       "(JobSatisfaction ⟂ Hobby | Education, OpenSource, UndergradMajor, Salary)\n",
       "(JobSatisfaction ⟂ Hobby | Country, UndergradMajor, OpenSource, Salary, Education)\n",
       "(JobSatisfaction ⟂ Salary | Country, Hobby, UndergradMajor, OpenSource, Education)\n",
       "(Country ⟂ Hobby | OpenSource)\n",
       "(Country ⟂ Hobby | JobSatisfaction, OpenSource)\n",
       "(Country ⟂ Hobby | OpenSource, Salary)\n",
       "(Country ⟂ Hobby | Education, OpenSource)\n",
       "(Country ⟂ Hobby | OpenSource, UndergradMajor)\n",
       "(Country ⟂ Hobby | JobSatisfaction, OpenSource, Salary)\n",
       "(Country ⟂ Hobby | JobSatisfaction, Education, OpenSource)\n",
       "(Country ⟂ Hobby | JobSatisfaction, OpenSource, UndergradMajor)\n",
       "(Country ⟂ Hobby | Education, OpenSource, Salary)\n",
       "(Country ⟂ Hobby | OpenSource, UndergradMajor, Salary)\n",
       "(Country ⟂ Hobby | Education, OpenSource, UndergradMajor)\n",
       "(Country ⟂ Hobby | JobSatisfaction, Education, OpenSource, Salary)\n",
       "(Country ⟂ Hobby | JobSatisfaction, OpenSource, UndergradMajor, Salary)\n",
       "(Country ⟂ Hobby | JobSatisfaction, Education, OpenSource, UndergradMajor)\n",
       "(Country ⟂ Hobby | Education, OpenSource, UndergradMajor, Salary)\n",
       "(Country ⟂ Hobby | UndergradMajor, JobSatisfaction, OpenSource, Salary, Education)\n",
       "(OpenSource ⟂ UndergradMajor | Country)\n",
       "(OpenSource ⟂ UndergradMajor | Country, Salary)\n",
       "(OpenSource ⟂ Salary, UndergradMajor | Education, Country)\n",
       "(OpenSource ⟂ UndergradMajor | Hobby, Country)\n",
       "(OpenSource ⟂ Salary | JobSatisfaction, Country, Education)\n",
       "(OpenSource ⟂ UndergradMajor | Education, Country, Salary)\n",
       "(OpenSource ⟂ UndergradMajor | Hobby, Country, Salary)\n",
       "(OpenSource ⟂ Salary, UndergradMajor | Education, Hobby, Country)\n",
       "(OpenSource ⟂ Salary | Education, Country, UndergradMajor)\n",
       "(OpenSource ⟂ Salary | JobSatisfaction, Hobby, Country, Education)\n",
       "(OpenSource ⟂ Salary | JobSatisfaction, Country, Education, UndergradMajor)\n",
       "(OpenSource ⟂ UndergradMajor | Education, Hobby, Country, Salary)\n",
       "(OpenSource ⟂ Salary | Education, Hobby, Country, UndergradMajor)\n",
       "(OpenSource ⟂ Salary | Country, Hobby, UndergradMajor, JobSatisfaction, Education)\n",
       "(Salary ⟂ UndergradMajor | Country)\n",
       "(Salary ⟂ Hobby | OpenSource)\n",
       "(Salary ⟂ Hobby | JobSatisfaction, OpenSource)\n",
       "(Salary ⟂ Hobby, UndergradMajor | Country, OpenSource)\n",
       "(Salary ⟂ JobSatisfaction, Hobby, OpenSource, UndergradMajor | Education, Country)\n",
       "(Salary ⟂ UndergradMajor | Hobby, Country)\n",
       "(Salary ⟂ Hobby | Education, OpenSource)\n",
       "(Salary ⟂ Hobby | OpenSource, UndergradMajor)\n",
       "(Salary ⟂ Hobby | JobSatisfaction, Country, OpenSource)\n",
       "(Salary ⟂ Hobby, OpenSource, UndergradMajor | JobSatisfaction, Country, Education)\n",
       "(Salary ⟂ Hobby | JobSatisfaction, Education, OpenSource)\n",
       "(Salary ⟂ Hobby | JobSatisfaction, OpenSource, UndergradMajor)\n",
       "(Salary ⟂ JobSatisfaction, Hobby, UndergradMajor | Education, Country, OpenSource)\n",
       "(Salary ⟂ UndergradMajor | Hobby, Country, OpenSource)\n",
       "(Salary ⟂ Hobby | Country, OpenSource, UndergradMajor)\n",
       "(Salary ⟂ JobSatisfaction, OpenSource, UndergradMajor | Education, Hobby, Country)\n",
       "(Salary ⟂ JobSatisfaction, Hobby, OpenSource | Education, Country, UndergradMajor)\n",
       "(Salary ⟂ Hobby | Education, OpenSource, UndergradMajor)\n",
       "(Salary ⟂ Hobby, UndergradMajor | JobSatisfaction, Education, Country, OpenSource)\n",
       "(Salary ⟂ Hobby | JobSatisfaction, Country, OpenSource, UndergradMajor)\n",
       "(Salary ⟂ OpenSource, UndergradMajor | JobSatisfaction, Hobby, Country, Education)\n",
       "(Salary ⟂ Hobby, OpenSource | JobSatisfaction, Country, Education, UndergradMajor)\n",
       "(Salary ⟂ Hobby | JobSatisfaction, Education, OpenSource, UndergradMajor)\n",
       "(Salary ⟂ JobSatisfaction, UndergradMajor | Education, Hobby, Country, OpenSource)\n",
       "(Salary ⟂ JobSatisfaction, Hobby | Education, Country, OpenSource, UndergradMajor)\n",
       "(Salary ⟂ JobSatisfaction, OpenSource | Education, Hobby, Country, UndergradMajor)\n",
       "(Salary ⟂ UndergradMajor | Country, Hobby, JobSatisfaction, OpenSource, Education)\n",
       "(Salary ⟂ Hobby | Country, UndergradMajor, JobSatisfaction, OpenSource, Education)\n",
       "(Salary ⟂ OpenSource | Country, Hobby, UndergradMajor, JobSatisfaction, Education)\n",
       "(Salary ⟂ JobSatisfaction | Country, Hobby, UndergradMajor, OpenSource, Education)\n",
       "(Education ⟂ UndergradMajor | Country)\n",
       "(Education ⟂ Hobby | OpenSource)\n",
       "(Education ⟂ Hobby | JobSatisfaction, OpenSource)\n",
       "(Education ⟂ Hobby, UndergradMajor | Country, OpenSource)\n",
       "(Education ⟂ UndergradMajor | Country, Salary)\n",
       "(Education ⟂ UndergradMajor | Hobby, Country)\n",
       "(Education ⟂ Hobby | OpenSource, Salary)\n",
       "(Education ⟂ Hobby | OpenSource, UndergradMajor)\n",
       "(Education ⟂ Hobby | JobSatisfaction, Country, OpenSource)\n",
       "(Education ⟂ Hobby | JobSatisfaction, OpenSource, Salary)\n",
       "(Education ⟂ Hobby | JobSatisfaction, OpenSource, UndergradMajor)\n",
       "(Education ⟂ Hobby, UndergradMajor | Country, OpenSource, Salary)\n",
       "(Education ⟂ UndergradMajor | Hobby, Country, OpenSource)\n",
       "(Education ⟂ Hobby | Country, OpenSource, UndergradMajor)\n",
       "(Education ⟂ UndergradMajor | Hobby, Country, Salary)\n",
       "(Education ⟂ Hobby | OpenSource, UndergradMajor, Salary)\n",
       "(Education ⟂ Hobby | JobSatisfaction, Country, OpenSource, Salary)\n",
       "(Education ⟂ Hobby | JobSatisfaction, Country, OpenSource, UndergradMajor)\n",
       "(Education ⟂ Hobby | JobSatisfaction, OpenSource, UndergradMajor, Salary)\n",
       "(Education ⟂ UndergradMajor | Hobby, Country, OpenSource, Salary)\n",
       "(Education ⟂ Hobby | Country, OpenSource, UndergradMajor, Salary)\n",
       "(Education ⟂ Hobby | Country, UndergradMajor, JobSatisfaction, OpenSource, Salary)\n",
       "(Hobby ⟂ UndergradMajor | Country)\n",
       "(Hobby ⟂ JobSatisfaction, Country, Salary, Education, UndergradMajor | OpenSource)\n",
       "(Hobby ⟂ Education, Country, Salary, UndergradMajor | JobSatisfaction, OpenSource)\n",
       "(Hobby ⟂ JobSatisfaction, Education, UndergradMajor, Salary | Country, OpenSource)\n",
       "(Hobby ⟂ UndergradMajor | Country, Salary)\n",
       "(Hobby ⟂ Salary, UndergradMajor | Education, Country)\n",
       "(Hobby ⟂ JobSatisfaction, Country, Education, UndergradMajor | OpenSource, Salary)\n",
       "(Hobby ⟂ JobSatisfaction, Country, Salary, UndergradMajor | Education, OpenSource)\n",
       "(Hobby ⟂ JobSatisfaction, Country, Education, Salary | OpenSource, UndergradMajor)\n",
       "(Hobby ⟂ Education, Salary, UndergradMajor | JobSatisfaction, Country, OpenSource)\n",
       "(Hobby ⟂ Salary | JobSatisfaction, Country, Education)\n",
       "(Hobby ⟂ Education, Country, UndergradMajor | JobSatisfaction, OpenSource, Salary)\n",
       "(Hobby ⟂ Country, Salary, UndergradMajor | JobSatisfaction, Education, OpenSource)\n",
       "(Hobby ⟂ Education, Country, Salary | JobSatisfaction, OpenSource, UndergradMajor)\n",
       "(Hobby ⟂ JobSatisfaction, Education, UndergradMajor | Country, OpenSource, Salary)\n",
       "(Hobby ⟂ JobSatisfaction, Salary, UndergradMajor | Education, Country, OpenSource)\n",
       "(Hobby ⟂ JobSatisfaction, Education, Salary | Country, OpenSource, UndergradMajor)\n",
       "(Hobby ⟂ UndergradMajor | Education, Country, Salary)\n",
       "(Hobby ⟂ Salary | Education, Country, UndergradMajor)\n",
       "(Hobby ⟂ JobSatisfaction, Country, UndergradMajor | Education, OpenSource, Salary)\n",
       "(Hobby ⟂ JobSatisfaction, Country, Education | OpenSource, UndergradMajor, Salary)\n",
       "(Hobby ⟂ JobSatisfaction, Country, Salary | Education, OpenSource, UndergradMajor)\n",
       "(Hobby ⟂ Education, UndergradMajor | JobSatisfaction, Country, OpenSource, Salary)\n",
       "(Hobby ⟂ Salary, UndergradMajor | JobSatisfaction, Education, Country, OpenSource)\n",
       "(Hobby ⟂ Education, Salary | JobSatisfaction, Country, OpenSource, UndergradMajor)\n",
       "(Hobby ⟂ Salary | JobSatisfaction, Country, Education, UndergradMajor)\n",
       "(Hobby ⟂ Country, UndergradMajor | JobSatisfaction, Education, OpenSource, Salary)\n",
       "(Hobby ⟂ Education, Country | JobSatisfaction, OpenSource, UndergradMajor, Salary)\n",
       "(Hobby ⟂ Country, Salary | JobSatisfaction, Education, OpenSource, UndergradMajor)\n",
       "(Hobby ⟂ JobSatisfaction, UndergradMajor | Education, Country, OpenSource, Salary)\n",
       "(Hobby ⟂ JobSatisfaction, Education | Country, OpenSource, UndergradMajor, Salary)\n",
       "(Hobby ⟂ JobSatisfaction, Salary | Education, Country, OpenSource, UndergradMajor)\n",
       "(Hobby ⟂ JobSatisfaction, Country | Education, OpenSource, UndergradMajor, Salary)\n",
       "(Hobby ⟂ UndergradMajor | Country, JobSatisfaction, OpenSource, Salary, Education)\n",
       "(Hobby ⟂ Education | Country, UndergradMajor, JobSatisfaction, OpenSource, Salary)\n",
       "(Hobby ⟂ Salary | Country, UndergradMajor, JobSatisfaction, OpenSource, Education)\n",
       "(Hobby ⟂ Country | UndergradMajor, JobSatisfaction, OpenSource, Salary, Education)\n",
       "(Hobby ⟂ JobSatisfaction | Country, UndergradMajor, OpenSource, Salary, Education)\n",
       "(UndergradMajor ⟂ Education, Hobby, OpenSource, Salary | Country)\n",
       "(UndergradMajor ⟂ Hobby | OpenSource)\n",
       "(UndergradMajor ⟂ Hobby | JobSatisfaction, OpenSource)\n",
       "(UndergradMajor ⟂ Education, Hobby, Salary | Country, OpenSource)\n",
       "(UndergradMajor ⟂ Education, Hobby, OpenSource | Country, Salary)\n",
       "(UndergradMajor ⟂ Hobby, OpenSource, Salary | Education, Country)\n",
       "(UndergradMajor ⟂ Education, OpenSource, Salary | Hobby, Country)\n",
       "(UndergradMajor ⟂ Hobby | OpenSource, Salary)\n",
       "(UndergradMajor ⟂ Hobby | Education, OpenSource)\n",
       "(UndergradMajor ⟂ Hobby | JobSatisfaction, Country, OpenSource)\n",
       "(UndergradMajor ⟂ Salary | JobSatisfaction, Country, Education)\n",
       "(UndergradMajor ⟂ Hobby | JobSatisfaction, OpenSource, Salary)\n",
       "(UndergradMajor ⟂ Hobby | JobSatisfaction, Education, OpenSource)\n",
       "(UndergradMajor ⟂ Education, Hobby | Country, OpenSource, Salary)\n",
       "(UndergradMajor ⟂ Hobby, Salary | Education, Country, OpenSource)\n",
       "(UndergradMajor ⟂ Education, Salary | Hobby, Country, OpenSource)\n",
       "(UndergradMajor ⟂ Hobby, OpenSource | Education, Country, Salary)\n",
       "(UndergradMajor ⟂ Education, OpenSource | Hobby, Country, Salary)\n",
       "(UndergradMajor ⟂ OpenSource, Salary | Education, Hobby, Country)\n",
       "(UndergradMajor ⟂ Hobby | Education, OpenSource, Salary)\n",
       "(UndergradMajor ⟂ Hobby | JobSatisfaction, Country, OpenSource, Salary)\n",
       "(UndergradMajor ⟂ Hobby, Salary | JobSatisfaction, Education, Country, OpenSource)\n",
       "(UndergradMajor ⟂ Salary | JobSatisfaction, Hobby, Country, Education)\n",
       "(UndergradMajor ⟂ Hobby | JobSatisfaction, Education, OpenSource, Salary)\n",
       "(UndergradMajor ⟂ Hobby | Education, Country, OpenSource, Salary)\n",
       "(UndergradMajor ⟂ Education | Hobby, Country, OpenSource, Salary)\n",
       "(UndergradMajor ⟂ Salary | Education, Hobby, Country, OpenSource)\n",
       "(UndergradMajor ⟂ OpenSource | Education, Hobby, Country, Salary)\n",
       "(UndergradMajor ⟂ Hobby | Country, JobSatisfaction, OpenSource, Salary, Education)\n",
       "(UndergradMajor ⟂ Salary | Country, Hobby, JobSatisfaction, OpenSource, Education)"
      ]
     },
     "execution_count": 22,
     "metadata": {},
     "output_type": "execute_result"
    }
   ],
   "source": [
    "model.get_independencies()"
   ]
  },
  {
   "cell_type": "markdown",
   "metadata": {},
   "source": [
    "# Flows of probabilistic influence\n",
    "**Definition (active two-edge trail):**\n",
    "If influence can flow from X to Y via Z, the trail X $\\rightleftharpoons$ Z $\\rightleftharpoons$ Y is active\n",
    "\n",
    "For influence to flow from nodes $X_1$ to $X_n$, it needs to flow through every single\n",
    "node on the trail. \n",
    "This is true if and only if every two-edge trail $X_{i−1} $\\rightleftharpoons$ $X_i$ $\\rightleftharpoons$ X_{i+1} along\n",
    "the trail allows influence to flow.\n",
    "\n",
    "**Definition (active trail):**  let $Z$ be a subset of observed variables.\n",
    "The trail $X_{i−1}$ $\\rightleftharpoons$ $X_i$ $\\rightleftharpoons$ $X_{i+1}$ is active given $Z$ if\n",
    "- $\\forall$ $X_{i−1}$ $\\rightarrow$ $X_i$ $\\leftarrow$ $X_{i+1}$, $X_i$ or one of its descendants are in $Z$\n",
    "- no other node along the trail is in $Z$\n"
   ]
  },
  {
   "cell_type": "code",
   "execution_count": 24,
   "metadata": {},
   "outputs": [
    {
     "name": "stdout",
     "output_type": "stream",
     "text": [
      "{'JobSatisfaction', 'Country', 'Salary', 'OpenSource', 'Education', 'Hobby', 'UndergradMajor'}\n",
      "{'JobSatisfaction': {'JobSatisfaction', 'Country', 'Salary', 'Education', 'UndergradMajor'}}\n"
     ]
    }
   ],
   "source": [
    "print(model.active_trail_nodes(['JobSatisfaction'])['JobSatisfaction'])\n",
    "print(model.active_trail_nodes(['JobSatisfaction'],['OpenSource']))"
   ]
  },
  {
   "cell_type": "markdown",
   "metadata": {},
   "source": [
    "You can see how the presence of *OpenSource* in the evidence 'blocks' the trail between *JobSatisfaction* and *Hobby*."
   ]
  },
  {
   "cell_type": "markdown",
   "metadata": {},
   "source": [
    "# Markov Blanket Notes\n",
    "All information about a random variable in a **Bayesian network** is contained within this set of nodes (parents, children, and parents of children). \n",
    "\n",
    "If we observe all of these variables (giving an **evidence**), then our node is independent of all other nodes within the network."
   ]
  },
  {
   "cell_type": "code",
   "execution_count": null,
   "metadata": {},
   "outputs": [
    {
     "data": {
      "image/png": "[encoded data removed]",
      "text/plain": [
       "<Figure size 720x576 with 1 Axes>"
      ]
     },
     "metadata": {},
     "output_type": "display_data"
    }
   ],
   "source": [
    "plot_mb(G, model.get_markov_blanket('Salary'), 'Salary')"
   ]
  },
  {
   "cell_type": "markdown",
   "metadata": {},
   "source": [
    "As we can see asking the BN the probability of having a certain Converted Salary given its Markov Blanket is the same as adding evidence to other nodes that aren't part of it.\n",
    "\n",
    "This means that Converted Salary is independent to other nodes given its Markov Blanket."
   ]
  },
  {
   "cell_type": "markdown",
   "metadata": {},
   "source": [
    "Queries have been made using an exact Method for inference (**Variable Elimination**)."
   ]
  },
  {
   "cell_type": "code",
   "execution_count": null,
   "metadata": {},
   "outputs": [],
   "source": [
    "%%capture\n",
    "from pgmpy.inference import VariableElimination\n",
    "inference = VariableElimination(model)\n",
    "\n",
    "pSalary1 = inference.query(['Salary'],{'Country':'India','Education':'Bachelor'})\n",
    "\n",
    "pSalary2 = inference.query(['Salary'],{'Country':'India','Education':'Bachelor','OpenSource':'Yes'})\n"
   ]
  },
  {
   "cell_type": "code",
   "execution_count": null,
   "metadata": {},
   "outputs": [
    {
     "name": "stdout",
     "output_type": "stream",
     "text": [
      "+---------------------------+---------------+\n",
      "| Salary                    |   phi(Salary) |\n",
      "+===========================+===============+\n",
      "| Salary(0-250.000)         |        0.9836 |\n",
      "+---------------------------+---------------+\n",
      "| Salary(1.000.000+)        |        0.0008 |\n",
      "+---------------------------+---------------+\n",
      "| Salary(250.000-1.000.000) |        0.0156 |\n",
      "+---------------------------+---------------+\n",
      "P(Salary | Country=India, Education=Bachelor)\n",
      "+---------------------------+---------------+\n",
      "| Salary                    |   phi(Salary) |\n",
      "+===========================+===============+\n",
      "| Salary(0-250.000)         |        0.9836 |\n",
      "+---------------------------+---------------+\n",
      "| Salary(1.000.000+)        |        0.0008 |\n",
      "+---------------------------+---------------+\n",
      "| Salary(250.000-1.000.000) |        0.0156 |\n",
      "+---------------------------+---------------+\n",
      "P(Salary | Country=India, Education=Bachelor, OpenSource=Yes)\n"
     ]
    }
   ],
   "source": [
    "print(pSalary1)\n",
    "print(\"P(Salary | Country=India, Education=Bachelor)\")\n",
    "print(pSalary2)\n",
    "print(\"P(Salary | Country=India, Education=Bachelor, OpenSource=Yes)\")"
   ]
  },
  {
   "cell_type": "markdown",
   "metadata": {},
   "source": [
    "# Comparison between Exact and Approximate Methods"
   ]
  },
  {
   "cell_type": "code",
   "execution_count": null,
   "metadata": {},
   "outputs": [],
   "source": [
    "# Now switch to sampling methods\n",
    "from pgmpy.factors.discrete import State\n",
    "from pgmpy.sampling import BayesianModelSampling\n",
    "\n",
    "def run_experiment(model,sample_size,evidence,p_exact):\n",
    "    # Sample\n",
    "    def prob_LW(samples,variable):\n",
    "        result={}\n",
    "        values=samples[variable].unique()\n",
    "        for value in values:\n",
    "            result[value]=round(np.sum(samples[samples[variable]==value]['_weight'])/np.sum(samples['_weight']),2)\n",
    "        return result\n",
    "\n",
    "    def prob_RS(samples,variable):\n",
    "        result={}\n",
    "        values=samples[variable].unique()\n",
    "        tot=len(samples[variable])\n",
    "        for value in values:\n",
    "            result[value]=len(samples[samples[variable]==value])/tot\n",
    "        return result\n",
    "\n",
    "    def relative_error(exact_value,approx_value):\n",
    "        return np.absolute((exact_value-approx_value)/exact_value)\n",
    "\n",
    "    def absolute_error(exact_value,approx_value):\n",
    "\n",
    "        return np.absolute(exact_value-approx_value)\n",
    "\n",
    "    evidence2 = [State(key,val) for key,val in evidence.items()]\n",
    "    inference_sampling=BayesianModelSampling(model)\n",
    "    samples_LW = inference_sampling.likelihood_weighted_sample(evidence = evidence2, size=sample_size)\n",
    "    samples_RS = inference_sampling.rejection_sample(evidence=evidence2, size=sample_size)\n",
    "    \n",
    "    # # Statistics  \n",
    "    variables=[str(node) for node in model.nodes if str(node) not in evidence.keys()]\n",
    "    p_LW={}\n",
    "    p_RS={}\n",
    "    absolute_error_LW={}\n",
    "    absolute_error_RS={}\n",
    "    \n",
    "    for variable in variables:\n",
    "\n",
    "        p_LW[variable]=prob_LW(samples_LW,variable)\n",
    "        p_RS[variable]=prob_RS(samples_RS,variable)\n",
    "        \n",
    "        values=samples_LW[variable].unique()\n",
    "        # exec('absolute_error_LW[variable]={value:absolute_error(p_exact[variable].get_value(%s=value),p_LW[variable][value]) for value in values}'%variable,locals())\n",
    "        absolute_error_LW[variable]={value:absolute_error(p_exact[variable].get_value(**{variable:value}),p_LW[variable][value]) for value in values}\n",
    "        \n",
    "        values=samples_RS[variable].unique()\n",
    "        # exec('absolute_error_RS[variable]={value:absolute_error(p_exact[variable].get_value(%s=value),p_RS[variable][value]) for value in values}'%variable,locals())\n",
    "        absolute_error_RS[variable]={value:absolute_error(p_exact[variable].get_value(**{variable:value}),p_RS[variable][value]) for value in values}\n",
    "\n",
    "    # Return results\n",
    "    return p_exact,p_LW,p_RS,absolute_error_LW,absolute_error_RS\n",
    "\n"
   ]
  },
  {
   "cell_type": "code",
   "execution_count": null,
   "metadata": {},
   "outputs": [],
   "source": [
    "%%capture\n",
    "evidence = {'Country':'India','Education':'Bachelor'}\n",
    "\n",
    "starting_size_=1 # from 10 sample points\n",
    "final_size=5     # to 10^5 sample points\n",
    "experiments=20 # 8 experiments\n",
    "result=[]\n",
    "inference_exact=VariableElimination(model)\n",
    "\n",
    "variables=[str(node) for node in model.nodes if str(node) not in evidence.keys()]\n",
    "p_exact={variable:inference_exact.query([variable],evidence) for variable in variables}\n",
    "\n",
    "for size in np.logspace(starting_size_, final_size, num=experiments, dtype='<i8'):\n",
    "    p_exact,p_LW,p_RS,absolute_error_LW,absolute_error_RS=run_experiment(model,size,evidence,p_exact)\n",
    "    result.append({\n",
    "        'sample_size':size,\n",
    "        'p_exact':p_exact,\n",
    "        'p_LW':p_LW,\n",
    "        'p_RS':p_RS,\n",
    "        'e_LW':absolute_error_LW,\n",
    "        'e_RS':absolute_error_RS\n",
    "    })"
   ]
  },
  {
   "cell_type": "code",
   "execution_count": null,
   "metadata": {},
   "outputs": [],
   "source": [
    "def plot_prob(results,p_exact,evidence,**variables):\n",
    "\n",
    "    sample_size=[r['sample_size'] for r in results]\n",
    "    \n",
    "    for var,val in variables.items():\n",
    "        p_LW=[r['p_LW'][var][val] for r in results]\n",
    "        p_RS=[r['p_RS'][var][val] for r in results]\n",
    "        p=p_exact[var].get_value(**{var:val})\n",
    "\n",
    "        plt.figure(figsize=(20,5))\n",
    "        plt.subplot()\n",
    "        plt.ylim(0,1)\n",
    "        plt.title('P({}={}|{}'.format(var,val,','.join([str(k)+\"=\"+str(v) for k,v in evidence.items()])))\n",
    "        LWCplot, = plt.semilogx(sample_size,p_LW,'b',label=\"Likelihood Weighting\")\n",
    "        RSCplot, = plt.semilogx(sample_size,p_RS,'g',label=\"Rejection Sampling\")\n",
    "        VECplot, = plt.semilogx(sample_size,p*np.ones(len(results)),'r',label=\"reference value\")\n",
    "        plt.legend(handles=[LWCplot,RSCplot,VECplot])\n",
    "        plt.show()\n",
    "\n",
    "def plot_error(results,evidence,**variables):\n",
    "    # evidence=p_exact['Hobby'].get_evidence()\n",
    "    # print(evidence)\n",
    "    sample_size=[r['sample_size'] for r in results]\n",
    "    \n",
    "    for var,val in variables.items():\n",
    "        e_LW=[r['e_LW'][var][val] for r in results]\n",
    "        e_RS=[r['e_RS'][var][val] for r in results]\n",
    "\n",
    "        plt.figure(figsize=(20,5))\n",
    "        plt.subplot()\n",
    "        plt.ylim(0,np.max(e_LW+e_RS)+0.1*np.max(e_LW+e_RS))\n",
    "        plt.title('Absolute error on P({}={}|{}'.format(var,val,','.join([str(k)+\"=\"+str(v) for k,v in evidence.items()])))\n",
    "        LWCplot, = plt.semilogx(sample_size,e_LW,'b',label=\"Likelihood Weighting\")\n",
    "        RSCplot, = plt.semilogx(sample_size,e_RS,'g',label=\"Rejection Sampling\")\n",
    "        plt.legend(handles=[LWCplot,RSCplot])\n",
    "        plt.show()\n"
   ]
  },
  {
   "cell_type": "code",
   "execution_count": null,
   "metadata": {},
   "outputs": [
    {
     "data": {
      "image/png": "[encoded data removed]",
      "text/plain": [
       "<Figure size 1440x360 with 1 Axes>"
      ]
     },
     "metadata": {
      "needs_background": "light"
     },
     "output_type": "display_data"
    },
    {
     "data": {
      "image/png": "[encoded data removed]",
      "text/plain": [
       "<Figure size 1440x360 with 1 Axes>"
      ]
     },
     "metadata": {
      "needs_background": "light"
     },
     "output_type": "display_data"
    }
   ],
   "source": [
    "plot_error(result,evidence,OpenSource='Yes',Hobby='Yes')"
   ]
  },
  {
   "cell_type": "code",
   "execution_count": null,
   "metadata": {},
   "outputs": [
    {
     "data": {
      "image/png": "[encoded data removed]",
      "text/plain": [
       "<Figure size 1440x360 with 1 Axes>"
      ]
     },
     "metadata": {
      "needs_background": "light"
     },
     "output_type": "display_data"
    },
    {
     "data": {
      "image/png": "[encoded data removed]",
      "text/plain": [
       "<Figure size 1440x360 with 1 Axes>"
      ]
     },
     "metadata": {
      "needs_background": "light"
     },
     "output_type": "display_data"
    }
   ],
   "source": [
    "plot_prob(result,p_exact,evidence,OpenSource='Yes',Hobby='Yes')"
   ]
  },
  {
   "cell_type": "markdown",
   "metadata": {},
   "source": [
    "## Final Considerations: Interesting Queries"
   ]
  },
  {
   "cell_type": "code",
   "execution_count": null,
   "metadata": {},
   "outputs": [
    {
     "name": "stdout",
     "output_type": "stream",
     "text": [
      "India\n"
     ]
    },
    {
     "name": "stderr",
     "output_type": "stream",
     "text": [
      "Finding Elimination Order: : : 0it [00:00, ?it/s]\n",
      "0it [00:00, ?it/s]\n"
     ]
    },
    {
     "name": "stdout",
     "output_type": "stream",
     "text": [
      "+--------------------------+-----------------------+\n",
      "| UndergradMajor           |   phi(UndergradMajor) |\n",
      "+==========================+=======================+\n",
      "| UndergradMajor(NOT_STEM) |                0.0129 |\n",
      "+--------------------------+-----------------------+\n",
      "| UndergradMajor(STEM)     |                0.9871 |\n",
      "+--------------------------+-----------------------+\n",
      "United Kingdom\n"
     ]
    },
    {
     "name": "stderr",
     "output_type": "stream",
     "text": [
      "Finding Elimination Order: : : 0it [00:00, ?it/s]\n",
      "0it [00:00, ?it/s]\n"
     ]
    },
    {
     "name": "stdout",
     "output_type": "stream",
     "text": [
      "+--------------------------+-----------------------+\n",
      "| UndergradMajor           |   phi(UndergradMajor) |\n",
      "+==========================+=======================+\n",
      "| UndergradMajor(NOT_STEM) |                0.0844 |\n",
      "+--------------------------+-----------------------+\n",
      "| UndergradMajor(STEM)     |                0.9156 |\n",
      "+--------------------------+-----------------------+\n",
      "United States\n"
     ]
    },
    {
     "name": "stderr",
     "output_type": "stream",
     "text": [
      "Finding Elimination Order: : : 0it [00:00, ?it/s]\n",
      "0it [00:00, ?it/s]"
     ]
    },
    {
     "name": "stdout",
     "output_type": "stream",
     "text": [
      "+--------------------------+-----------------------+\n",
      "| UndergradMajor           |   phi(UndergradMajor) |\n",
      "+==========================+=======================+\n",
      "| UndergradMajor(NOT_STEM) |                0.1576 |\n",
      "+--------------------------+-----------------------+\n",
      "| UndergradMajor(STEM)     |                0.8424 |\n",
      "+--------------------------+-----------------------+\n"
     ]
    },
    {
     "name": "stderr",
     "output_type": "stream",
     "text": [
      "\n"
     ]
    }
   ],
   "source": [
    "# %%capture\n",
    "\n",
    "for country in ['India', 'United Kingdom', 'United States']:\n",
    "    print(country)\n",
    "    p_country_um = inference.query(['UndergradMajor'], {'Country':country})\n",
    "    print(p_country_um)"
   ]
  },
  {
   "cell_type": "code",
   "execution_count": null,
   "metadata": {},
   "outputs": [
    {
     "name": "stdout",
     "output_type": "stream",
     "text": [
      "India\n"
     ]
    },
    {
     "name": "stderr",
     "output_type": "stream",
     "text": [
      "Finding Elimination Order: : 100%|██████████| 2/2 [00:00<00:00, 1018.28it/s]\n",
      "Eliminating: OpenSource: 100%|██████████| 2/2 [00:00<00:00, 285.46it/s]\n"
     ]
    },
    {
     "name": "stdout",
     "output_type": "stream",
     "text": [
      "+---------------------+------------------+\n",
      "| Education           |   phi(Education) |\n",
      "+=====================+==================+\n",
      "| Education(Bachelor) |           0.7363 |\n",
      "+---------------------+------------------+\n",
      "| Education(Master)   |           0.2614 |\n",
      "+---------------------+------------------+\n",
      "| Education(Ph.D)     |           0.0023 |\n",
      "+---------------------+------------------+\n",
      "United Kingdom\n"
     ]
    },
    {
     "name": "stderr",
     "output_type": "stream",
     "text": [
      "Finding Elimination Order: : 100%|██████████| 2/2 [00:00<00:00, 499.83it/s]\n",
      "Eliminating: OpenSource: 100%|██████████| 2/2 [00:00<00:00, 500.48it/s]\n"
     ]
    },
    {
     "name": "stdout",
     "output_type": "stream",
     "text": [
      "+---------------------+------------------+\n",
      "| Education           |   phi(Education) |\n",
      "+=====================+==================+\n",
      "| Education(Bachelor) |           0.6337 |\n",
      "+---------------------+------------------+\n",
      "| Education(Master)   |           0.2986 |\n",
      "+---------------------+------------------+\n",
      "| Education(Ph.D)     |           0.0677 |\n",
      "+---------------------+------------------+\n",
      "United States\n"
     ]
    },
    {
     "name": "stderr",
     "output_type": "stream",
     "text": [
      "Finding Elimination Order: : 100%|██████████| 2/2 [00:00<00:00, 499.32it/s]\n",
      "Eliminating: OpenSource: 100%|██████████| 2/2 [00:00<00:00, 666.82it/s]"
     ]
    },
    {
     "name": "stdout",
     "output_type": "stream",
     "text": [
      "+---------------------+------------------+\n",
      "| Education           |   phi(Education) |\n",
      "+=====================+==================+\n",
      "| Education(Bachelor) |           0.7406 |\n",
      "+---------------------+------------------+\n",
      "| Education(Master)   |           0.2244 |\n",
      "+---------------------+------------------+\n",
      "| Education(Ph.D)     |           0.0350 |\n",
      "+---------------------+------------------+\n"
     ]
    },
    {
     "name": "stderr",
     "output_type": "stream",
     "text": [
      "\n"
     ]
    }
   ],
   "source": [
    "for country in ['India', 'United Kingdom', 'United States']:\n",
    "    print(country)\n",
    "    p_country_ed = inference.query(['Education'], {'Country':country})\n",
    "    print(p_country_ed)"
   ]
  }
 ],
 "metadata": {
  "interpreter": {
   "hash": "c23b91227a54c2af61c5e03a530e77c3a20e29d5fbc858ef43b726817a78fb0f"
  },
  "kernelspec": {
   "display_name": "Python 3.10.2 ('FAIKR_venv')",
   "language": "python",
   "name": "python3"
  },
  "language_info": {
   "codemirror_mode": {
    "name": "ipython",
    "version": 3
   },
   "file_extension": ".py",
   "mimetype": "text/x-python",
   "name": "python",
   "nbconvert_exporter": "python",
   "pygments_lexer": "ipython3",
   "version": "3.10.2"
  },
  "orig_nbformat": 4
 },
 "nbformat": 4,
 "nbformat_minor": 2
}
